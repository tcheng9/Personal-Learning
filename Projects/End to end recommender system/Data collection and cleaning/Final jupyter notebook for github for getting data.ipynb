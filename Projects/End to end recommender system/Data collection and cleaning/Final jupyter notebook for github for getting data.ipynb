{
 "cells": [
  {
   "cell_type": "code",
   "execution_count": 1,
   "metadata": {},
   "outputs": [],
   "source": [
    "import bs4 as bs\n",
    "import time\n",
    "import random\n",
    "import urllib.request as url\n",
    "import requests\n",
    "import requests\n",
    "from bs4 import BeautifulSoup"
   ]
  },
  {
   "cell_type": "code",
   "execution_count": null,
   "metadata": {},
   "outputs": [],
   "source": [
    "######Get a list of restaurant aliases from the API I pulled\n",
    "import pandas as pd\n",
    "import numpy as np\n",
    "\n",
    "df = pd.read_csv(\"C:\\\\Users\\\\tchen\\\\Documents\\\\Data science\\\\Recommender_System_Project\\\\raw data.csv\")\n",
    "aliases = df['alias']"
   ]
  },
  {
   "cell_type": "code",
   "execution_count": null,
   "metadata": {},
   "outputs": [],
   "source": [
    "#Function to get the restaurant name from the API dataset\n",
    "def getAliases(x):\n",
    "    return aliases[x]"
   ]
  },
  {
   "cell_type": "code",
   "execution_count": null,
   "metadata": {},
   "outputs": [],
   "source": [
    "#Used to slow down web scraper\n",
    "n = random.randint(0,20)\n",
    "time.sleep(n)"
   ]
  },
  {
   "cell_type": "code",
   "execution_count": null,
   "metadata": {},
   "outputs": [],
   "source": [
    "###Code for scraping yelp for ratings\n",
    "testList = []\n",
    "restaurantNameList = []\n",
    "tens = 0\n",
    "n = random.randint(0,10)\n",
    "startOfList = 3500 \n",
    "endOfList = 4500 ##Excludes this number\n",
    "\n",
    "try:\n",
    "    for j in range(startOfList, endOfList):\n",
    "        tens = 0\n",
    "        restName = getAliases(j)\n",
    "        testList.append(getAliases(j))\n",
    "\n",
    "        for i in range(1,3):\n",
    "            string = \"https://www.yelp.com/biz/\"+restName+\"?osq=restaurants\" + \"&start=\" + str(tens)\n",
    "            r = requests.get(string).text\n",
    "            \n",
    "            \n",
    "            #Parse the html\n",
    "            soup = BeautifulSoup(r, 'html.parser')\n",
    "\n",
    "            #find all the comments\n",
    "            allrev1 = soup.find_all(\"div\",{\"class\":\"i-stars__373c0___sZu0 i-stars--regular-1__373c0__2QZgK border-color--default__373c0__1yxBb overflow--hidden__373c0__1TJqF\"})\n",
    "\n",
    "            allrev2 = soup.find_all(\"div\", {\"class\":\"i-stars__373c0___sZu0 i-stars--regular-2__373c0__2yu75 border-color--default__373c0__1yxBb overflow--hidden__373c0__1TJqF\"})\n",
    "\n",
    "            allrev3 = soup.find_all(\"div\", {\"class\": \"i-stars__373c0___sZu0 i-stars--regular-3__373c0__3XiEH border-color--default__373c0__1yxBb overflow--hidden__373c0__1TJqF\"})\n",
    "\n",
    "            allrev4 = soup.find_all(\"div\", {\"class\": \"i-stars__373c0___sZu0 i-stars--regular-4__373c0__3b-zE border-color--default__373c0__1yxBb overflow--hidden__373c0__1TJqF\"})\n",
    "\n",
    "            allrev5 = soup.find_all(\"div\",{\"class\": \"i-stars__373c0___sZu0 i-stars--regular-5__373c0__20dKs border-color--default__373c0__1yxBb overflow--hidden__373c0__1TJqF\"})\n",
    "            \n",
    "            for i in range(0, len(allrev1)):\n",
    "                testList.append(allrev1[i]['aria-label'])\n",
    "                restaurantNameList.append(getAliases(j))\n",
    "                \n",
    "            for i in range(0, len(allrev2)):\n",
    "                testList.append(allrev2[i]['aria-label'])\n",
    "                restaurantNameList.append(getAliases(j))\n",
    "                                          \n",
    "            for i in range(0, len(allrev3)):\n",
    "                testList.append(allrev3[i]['aria-label'])\n",
    "                restaurantNameList.append(getAliases(j))                         \n",
    "                \n",
    "            for i in range(0, len(allrev4)):\n",
    "                testList.append(allrev4[i]['aria-label'])    \n",
    "                restaurantNameList.append(getAliases(j))\n",
    "                \n",
    "            for i in range(0, len(allrev5)):\n",
    "                testList.append(allrev5[i]['aria-label'])\n",
    "                restaurantNameList.append(getAliases(j))\n",
    "                                          \n",
    "            #For each call, wait a few seconds and increment search by 10\n",
    "            time.sleep(n)    \n",
    "            tens += 10\n",
    "            print(j)\n",
    "    \n",
    "except:\n",
    "    print('error')"
   ]
  },
  {
   "cell_type": "code",
   "execution_count": 2,
   "metadata": {},
   "outputs": [
    {
     "ename": "NameError",
     "evalue": "name 'restaurantNameList' is not defined",
     "output_type": "error",
     "traceback": [
      "\u001b[1;31m---------------------------------------------------------------------------\u001b[0m",
      "\u001b[1;31mNameError\u001b[0m                                 Traceback (most recent call last)",
      "\u001b[1;32m<ipython-input-2-45dafb49c803>\u001b[0m in \u001b[0;36m<module>\u001b[1;34m\u001b[0m\n\u001b[0;32m      1\u001b[0m \u001b[1;31m##The returns lists lengths are not the same so I want to make them the same length\u001b[0m\u001b[1;33m\u001b[0m\u001b[1;33m\u001b[0m\u001b[1;33m\u001b[0m\u001b[0m\n\u001b[1;32m----> 2\u001b[1;33m \u001b[0mprint\u001b[0m\u001b[1;33m(\u001b[0m\u001b[0mlen\u001b[0m\u001b[1;33m(\u001b[0m\u001b[0mrestaurantNameList\u001b[0m\u001b[1;33m)\u001b[0m\u001b[1;33m)\u001b[0m\u001b[1;33m\u001b[0m\u001b[1;33m\u001b[0m\u001b[0m\n\u001b[0m\u001b[0;32m      3\u001b[0m \u001b[0mprint\u001b[0m\u001b[1;33m(\u001b[0m\u001b[0mlen\u001b[0m\u001b[1;33m(\u001b[0m\u001b[0mtestList\u001b[0m\u001b[1;33m)\u001b[0m\u001b[1;33m)\u001b[0m\u001b[1;33m\u001b[0m\u001b[1;33m\u001b[0m\u001b[0m\n",
      "\u001b[1;31mNameError\u001b[0m: name 'restaurantNameList' is not defined"
     ]
    }
   ],
   "source": [
    "##The returns lists lengths are not the same so I want to make them the same length\n",
    "print(len(restaurantNameList))\n",
    "print(len(testList))\n"
   ]
  },
  {
   "cell_type": "code",
   "execution_count": null,
   "metadata": {},
   "outputs": [],
   "source": [
    "###Making arrays match\n",
    "listDifference = len(testList)- len(restaurantNameList)\n",
    "\n",
    "for i in range(0, listDifference):\n",
    "    restaurantNameList.append(\"x\")\n",
    "    \n"
   ]
  },
  {
   "cell_type": "code",
   "execution_count": null,
   "metadata": {},
   "outputs": [],
   "source": [
    "#Making the dataframe needed and saving the file\n",
    "\n",
    "df = pd.DataFrame(restaurantNameList, columns = ['restaurant name'])\n",
    "df['reviews'] = testList\n",
    "df.to_csv(\"restaurants_alises\"+str(startOfList)+\"_\" +str(endOfList)+\".csv\")"
   ]
  },
  {
   "cell_type": "code",
   "execution_count": null,
   "metadata": {},
   "outputs": [],
   "source": []
  },
  {
   "cell_type": "code",
   "execution_count": null,
   "metadata": {},
   "outputs": [],
   "source": []
  },
  {
   "cell_type": "code",
   "execution_count": null,
   "metadata": {},
   "outputs": [],
   "source": []
  },
  {
   "cell_type": "code",
   "execution_count": null,
   "metadata": {},
   "outputs": [],
   "source": []
  },
  {
   "cell_type": "code",
   "execution_count": null,
   "metadata": {},
   "outputs": [],
   "source": []
  },
  {
   "cell_type": "code",
   "execution_count": null,
   "metadata": {},
   "outputs": [],
   "source": []
  },
  {
   "cell_type": "code",
   "execution_count": null,
   "metadata": {},
   "outputs": [],
   "source": []
  },
  {
   "cell_type": "code",
   "execution_count": null,
   "metadata": {},
   "outputs": [],
   "source": []
  },
  {
   "cell_type": "code",
   "execution_count": null,
   "metadata": {},
   "outputs": [],
   "source": []
  },
  {
   "cell_type": "code",
   "execution_count": null,
   "metadata": {},
   "outputs": [],
   "source": []
  },
  {
   "cell_type": "code",
   "execution_count": null,
   "metadata": {},
   "outputs": [],
   "source": []
  }
 ],
 "metadata": {
  "kernelspec": {
   "display_name": "Python 3",
   "language": "python",
   "name": "python3"
  },
  "language_info": {
   "codemirror_mode": {
    "name": "ipython",
    "version": 3
   },
   "file_extension": ".py",
   "mimetype": "text/x-python",
   "name": "python",
   "nbconvert_exporter": "python",
   "pygments_lexer": "ipython3",
   "version": "3.7.6"
  }
 },
 "nbformat": 4,
 "nbformat_minor": 4
}
