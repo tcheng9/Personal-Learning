{
 "cells": [
  {
   "cell_type": "code",
   "execution_count": 14,
   "metadata": {},
   "outputs": [
    {
     "data": {
      "text/plain": [
       "'\\nClient ID\\nLZ0kRr3DzI8FZoZsY5zSdQ\\n\\nAPI Key\\nApxvPT8HLDJW2IGwVZAnebBhsHlEUrMAv_Pksm2-sRd46UBifNgyoQ7DRQXpClGy4yvg_m-i9k6o0Xexo8HxahmhVI6kxrpxvaUOnSFLLROLd-dw8FqDPzsVzid0X3Yx\\n'"
      ]
     },
     "execution_count": 14,
     "metadata": {},
     "output_type": "execute_result"
    }
   ],
   "source": [
    "\n",
    "\n"
   ]
  },
  {
   "cell_type": "code",
   "execution_count": 15,
   "metadata": {},
   "outputs": [],
   "source": [
    "client_id = #Get a client id key\n",
    "api_key = #get api key\n"
   ]
  },
  {
   "cell_type": "code",
   "execution_count": 16,
   "metadata": {},
   "outputs": [],
   "source": [
    "from yelpapi import YelpAPI\n",
    "import pandas as pd\n",
    "import numpy as np"
   ]
  },
  {
   "cell_type": "code",
   "execution_count": 17,
   "metadata": {},
   "outputs": [],
   "source": [
    "yelp_api = YelpAPI(api_key)"
   ]
  },
  {
   "cell_type": "code",
   "execution_count": 18,
   "metadata": {},
   "outputs": [
    {
     "name": "stdout",
     "output_type": "stream",
     "text": [
      "(50, 16)\n",
      "(100, 16)\n",
      "(150, 16)\n",
      "(200, 16)\n",
      "(250, 16)\n",
      "(300, 16)\n",
      "(350, 16)\n",
      "(400, 16)\n",
      "(450, 16)\n",
      "(500, 16)\n",
      "(550, 16)\n",
      "(600, 16)\n",
      "(650, 16)\n",
      "(700, 16)\n",
      "(750, 16)\n",
      "(800, 16)\n",
      "(850, 16)\n",
      "(900, 16)\n",
      "(950, 16)\n",
      "(1000, 16)\n"
     ]
    }
   ],
   "source": [
    "term = 'Mexican restaurant bar'\n",
    "location = 'Chicago, IL'\n",
    "\n",
    "search_limit = 50\n",
    "offsetter = np.arange(0, 1000, 50)\n",
    "\n",
    "data = pd.DataFrame(columns = ['id','alias','name','image_url','is_closed',\n",
    "                               'url','review_count','categories','rating',\n",
    "                               'coordinates','transactions','location',\n",
    "                               'phone','display_phone','distance'])\n",
    "    \n",
    "for i in range(0,20):\n",
    "    response = yelp_api.search_query(term = term, location = location, limit = search_limit, offset = offsetter[i],\n",
    "                                    )\n",
    "    \n",
    "    cols = list(response['businesses'][0].keys()) #What's this line do?\n",
    "    #data = pd.DataFrame(columns = cols)\n",
    "\n",
    "    for biz in response['businesses']:\n",
    "        data = data.append(biz, ignore_index = True)\n",
    "\n",
    "    print(data.shape)"
   ]
  },
  {
   "cell_type": "code",
   "execution_count": 19,
   "metadata": {},
   "outputs": [
    {
     "data": {
      "text/plain": [
       "(1000, 16)"
      ]
     },
     "execution_count": 19,
     "metadata": {},
     "output_type": "execute_result"
    }
   ],
   "source": []
  },
  {
   "cell_type": "code",
   "execution_count": null,
   "metadata": {},
   "outputs": [],
   "source": [
    "#No zip code\n",
    "term = 'restaurant'\n",
    "location = 'Chicago, IL '\n",
    "radius = 5000\n",
    "search_limit = 50\n",
    "offsetter = np.arange(0, 1000, 50)\n",
    "\n",
    "data = pd.DataFrame(columns = ['id','alias','name','image_url','is_closed',\n",
    "                               'url','review_count','categories','rating',\n",
    "                               'coordinates','transactions','location',\n",
    "                               'phone','display_phone','distance'])\n",
    "    \n",
    "for i in range(0,20):\n",
    "    response = yelp_api.search_query(term = term, location = location, limit = search_limit, offset = offsetter[i],\n",
    "                                    )\n",
    "    \n",
    "    cols = list(response['businesses'][0].keys()) #What's this line do?\n",
    "    #data = pd.DataFrame(columns = cols)\n",
    "\n",
    "    for biz in response['businesses']:\n",
    "        data = data.append(biz, ignore_index = True)\n",
    "\n",
    "print(data.shape)"
   ]
  },
  {
   "cell_type": "code",
   "execution_count": null,
   "metadata": {},
   "outputs": [],
   "source": [
    "#zipcode 60618\n",
    "term = 'restaurant'\n",
    "location = '60618'\n",
    "radius = 5000\n",
    "search_limit = 50\n",
    "offsetter = np.arange(0, 1000, 50)\n",
    "\n",
    "data_60618 = pd.DataFrame(columns = ['id','alias','name','image_url','is_closed',\n",
    "                               'url','review_count','categories','rating',\n",
    "                               'coordinates','transactions','location',\n",
    "                               'phone','display_phone','distance'])\n",
    "    \n",
    "for i in range(0,20):\n",
    "    response = yelp_api.search_query(term = term, location = location, limit = search_limit, offset = offsetter[i], radius = radius)\n",
    "    \n",
    "    cols = list(response['businesses'][0].keys()) #What's this line do?\n",
    "    #data = pd.DataFrame(columns = cols)\n",
    "\n",
    "    for biz in response['businesses']:\n",
    "        data_60618 = data_60618.append(biz, ignore_index = True)\n",
    "\n",
    "print(data_60618.shape)\n",
    "\n",
    "#Restaurants in range is 395"
   ]
  },
  {
   "cell_type": "code",
   "execution_count": null,
   "metadata": {},
   "outputs": [],
   "source": [
    "#zipcode 60611\n",
    "term = 'restaurant'\n",
    "location = '60611'\n",
    "radius = 5000\n",
    "search_limit = 50\n",
    "offsetter = np.arange(0, 1000, 50)\n",
    "\n",
    "data_60611 = pd.DataFrame(columns = ['id','alias','name','image_url','is_closed',\n",
    "                               'url','review_count','categories','rating',\n",
    "                               'coordinates','transactions','location',\n",
    "                               'phone','display_phone','distance'])\n",
    "    \n",
    "for i in range(0,20):\n",
    "    response = yelp_api.search_query(term = term, location = location, limit = search_limit, offset = offsetter[i], radius = radius)\n",
    "    \n",
    "    cols = list(response['businesses'][0].keys()) #What's this line do?\n",
    "    #data = pd.DataFrame(columns = cols)\n",
    "\n",
    "    for biz in response['businesses']:\n",
    "        data_60611 = data_60611.append(biz, ignore_index = True)\n",
    "\n",
    "print(data_60611.shape)\n",
    "\n",
    "#Restaurants in range is 395"
   ]
  },
  {
   "cell_type": "code",
   "execution_count": null,
   "metadata": {},
   "outputs": [],
   "source": [
    "#zipcode 60605\n",
    "term = 'restaurant'\n",
    "location = '60605'\n",
    "radius = 5000\n",
    "search_limit = 50\n",
    "offsetter = np.arange(0, 1000, 50)\n",
    "\n",
    "data_60605 = pd.DataFrame(columns = ['id','alias','name','image_url','is_closed',\n",
    "                               'url','review_count','categories','rating',\n",
    "                               'coordinates','transactions','location',\n",
    "                               'phone','display_phone','distance'])\n",
    "    \n",
    "for i in range(0,20):\n",
    "    response = yelp_api.search_query(term = term, location = location, limit = search_limit, offset = offsetter[i], radius = radius)\n",
    "    \n",
    "    cols = list(response['businesses'][0].keys()) #What's this line do?\n",
    "    #data = pd.DataFrame(columns = cols)\n",
    "\n",
    "    for biz in response['businesses']:\n",
    "        data_60605 = data_60605.append(biz, ignore_index = True)\n",
    "\n",
    "print(data_60605.shape)\n",
    "\n",
    "#Restaurants in range is 395"
   ]
  },
  {
   "cell_type": "code",
   "execution_count": null,
   "metadata": {},
   "outputs": [],
   "source": [
    "#zipcode 60624\n",
    "term = 'restaurant'\n",
    "location = '60624'\n",
    "radius = 5000\n",
    "search_limit = 50\n",
    "offsetter = np.arange(0, 900, 50)\n",
    "\n",
    "data_60624 = pd.DataFrame(columns = ['id','alias','name','image_url','is_closed',\n",
    "                               'url','review_count','categories','rating',\n",
    "                               'coordinates','transactions','location',\n",
    "                               'phone','display_phone','distance'])\n",
    "    \n",
    "for i in range(0,20):\n",
    "    response = yelp_api.search_query(term = term, location = location, limit = search_limit, offset = offsetter[i], radius = radius)\n",
    "    \n",
    "    cols = list(response['businesses'][0].keys()) #What's this line do?\n",
    "    #data = pd.DataFrame(columns = cols)\n",
    "\n",
    "    for biz in response['businesses']:\n",
    "        data_60624 = data_60624.append(biz, ignore_index = True)\n",
    "\n",
    "print(data_60624.shape)\n",
    "\n",
    "#Restaurants in range is 395"
   ]
  },
  {
   "cell_type": "code",
   "execution_count": null,
   "metadata": {},
   "outputs": [],
   "source": [
    "\n",
    "#zipcode 60609\n",
    "term = 'restaurant'\n",
    "location = '60624'\n",
    "radius = 5000\n",
    "search_limit = 50\n",
    "offsetter = np.arange(0, 750, 50)\n",
    "\n",
    "data_60609 = pd.DataFrame(columns = ['id','alias','name','image_url','is_closed',\n",
    "                               'url','review_count','categories','rating',\n",
    "                               'coordinates','transactions','location',\n",
    "                               'phone','display_phone','distance'])\n",
    "    \n",
    "for i in range(0,15):\n",
    "    response = yelp_api.search_query(term = term, location = location, limit = search_limit, offset = offsetter[i], radius = radius)\n",
    "    \n",
    "    cols = list(response['businesses'][0].keys()) #What's this line do?\n",
    "    #data = pd.DataFrame(columns = cols)\n",
    "\n",
    "    for biz in response['businesses']:\n",
    "        data_60609 = data_60609.append(biz, ignore_index = True)\n",
    "\n",
    "print(data_60609.shape)\n",
    "\n",
    "#Restaurants in range is 734"
   ]
  },
  {
   "cell_type": "code",
   "execution_count": null,
   "metadata": {},
   "outputs": [],
   "source": [
    "\n",
    "#zipcode 60620\n",
    "term = 'restaurant'\n",
    "location = '60620'\n",
    "radius = 5000\n",
    "search_limit = 50\n",
    "offsetter = np.arange(0, 1000, 50)\n",
    "\n",
    "data_60620 = pd.DataFrame(columns = ['id','alias','name','image_url','is_closed',\n",
    "                               'url','review_count','categories','rating',\n",
    "                               'coordinates','transactions','location',\n",
    "                               'phone','display_phone','distance'])\n",
    "    \n",
    "for i in range(0,7):\n",
    "    response = yelp_api.search_query(term = term, location = location, limit = search_limit, offset = offsetter[i], radius = radius)\n",
    "    \n",
    "    cols = list(response['businesses'][0].keys()) #What's this line do?\n",
    "    #data = pd.DataFrame(columns = cols)\n",
    "\n",
    "    for biz in response['businesses']:\n",
    "        data_60620 = data_60620.append(biz, ignore_index = True)\n",
    "\n",
    "print(data_60620.shape)\n",
    "\n",
    "#Restaurants in range is 310"
   ]
  },
  {
   "cell_type": "code",
   "execution_count": null,
   "metadata": {},
   "outputs": [],
   "source": [
    "#All data frames appended together\n",
    "test_df = data_60618.append([data_60611,data_60605,data_60624,data_60620])\n"
   ]
  },
  {
   "cell_type": "code",
   "execution_count": null,
   "metadata": {},
   "outputs": [],
   "source": [
    "\n",
    "test_df.to_csv(\"raw data.csv\", index = False)"
   ]
  },
  {
   "cell_type": "code",
   "execution_count": null,
   "metadata": {},
   "outputs": [],
   "source": []
  },
  {
   "cell_type": "code",
   "execution_count": null,
   "metadata": {},
   "outputs": [],
   "source": []
  },
  {
   "cell_type": "code",
   "execution_count": null,
   "metadata": {},
   "outputs": [],
   "source": []
  }
 ],
 "metadata": {
  "kernelspec": {
   "display_name": "Python 3",
   "language": "python",
   "name": "python3"
  },
  "language_info": {
   "codemirror_mode": {
    "name": "ipython",
    "version": 3
   },
   "file_extension": ".py",
   "mimetype": "text/x-python",
   "name": "python",
   "nbconvert_exporter": "python",
   "pygments_lexer": "ipython3",
   "version": "3.7.6"
  }
 },
 "nbformat": 4,
 "nbformat_minor": 4
}
