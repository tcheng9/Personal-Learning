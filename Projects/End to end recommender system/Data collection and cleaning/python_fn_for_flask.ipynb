{
 "cells": [
  {
   "cell_type": "code",
   "execution_count": 1,
   "metadata": {},
   "outputs": [],
   "source": [
    "import pandas as pd\n",
    "import numpy as np\n",
    "import os\n",
    "import flask\n",
    "import pickle"
   ]
  },
  {
   "cell_type": "code",
   "execution_count": 2,
   "metadata": {},
   "outputs": [],
   "source": [
    "df_merged = pd.read_pickle(\"./df_merged.pkl\")"
   ]
  },
  {
   "cell_type": "code",
   "execution_count": 10,
   "metadata": {},
   "outputs": [],
   "source": [
    "###Improving srs_model function\n",
    "\n",
    "def srs_model(percentage):\n",
    "    percentage = float(percentage)\n",
    "    emp_arr = []\n",
    "    name_arr = []\n",
    "    for i in df_merged['Name']:\n",
    "    \n",
    "        V = df_merged[df_merged['Name'] == str(i)]['Count']\n",
    "        M = df_merged['Count'].quantile(percentage)\n",
    "        R =  df_merged[df_merged['Name'] == str(i) ]['Rating']\n",
    "        C = df_merged['Rating'].mean()\n",
    "\n",
    "        WR = ((V/(V+M))*R) + ((M/(V+M)) * C)\n",
    "        \n",
    "        emp_arr.append(WR.values[0])\n",
    "        name_arr.append(i)\n",
    "    zip1 = zip(name_arr, emp_arr)\n",
    "    df_new = pd.DataFrame(zip1, columns = ['name', 'rating'])\n",
    "    df_new = df_new.sort_values(by = 'rating', ascending = False)\n",
    "    return df_new #Add a sort function to this model\n",
    "##Conclusion, I think the model works but I need to sort the data out so the top 10-20 list changes"
   ]
  },
  {
   "cell_type": "code",
   "execution_count": 11,
   "metadata": {},
   "outputs": [
    {
     "data": {
      "text/html": [
       "<div>\n",
       "<style scoped>\n",
       "    .dataframe tbody tr th:only-of-type {\n",
       "        vertical-align: middle;\n",
       "    }\n",
       "\n",
       "    .dataframe tbody tr th {\n",
       "        vertical-align: top;\n",
       "    }\n",
       "\n",
       "    .dataframe thead th {\n",
       "        text-align: right;\n",
       "    }\n",
       "</style>\n",
       "<table border=\"1\" class=\"dataframe\">\n",
       "  <thead>\n",
       "    <tr style=\"text-align: right;\">\n",
       "      <th></th>\n",
       "      <th>name</th>\n",
       "      <th>rating</th>\n",
       "    </tr>\n",
       "  </thead>\n",
       "  <tbody>\n",
       "    <tr>\n",
       "      <th>1809</th>\n",
       "      <td>sfera-sicilian-street-food-chicago</td>\n",
       "      <td>4.749664</td>\n",
       "    </tr>\n",
       "    <tr>\n",
       "      <th>1994</th>\n",
       "      <td>take-a-bao-chicago</td>\n",
       "      <td>4.749664</td>\n",
       "    </tr>\n",
       "    <tr>\n",
       "      <th>1540</th>\n",
       "      <td>penumbra-chicago</td>\n",
       "      <td>4.606520</td>\n",
       "    </tr>\n",
       "    <tr>\n",
       "      <th>2170</th>\n",
       "      <td>the-welcome-back-lounge-chicago</td>\n",
       "      <td>4.593548</td>\n",
       "    </tr>\n",
       "    <tr>\n",
       "      <th>575</th>\n",
       "      <td>dulce-de-leche-cafe-chicago</td>\n",
       "      <td>4.565497</td>\n",
       "    </tr>\n",
       "    <tr>\n",
       "      <th>...</th>\n",
       "      <td>...</td>\n",
       "      <td>...</td>\n",
       "    </tr>\n",
       "    <tr>\n",
       "      <th>1625</th>\n",
       "      <td>potbelly-sandwich-shop-chicago-77</td>\n",
       "      <td>3.058516</td>\n",
       "    </tr>\n",
       "    <tr>\n",
       "      <th>2280</th>\n",
       "      <td>wendys-chicago-2</td>\n",
       "      <td>2.973545</td>\n",
       "    </tr>\n",
       "    <tr>\n",
       "      <th>1421</th>\n",
       "      <td>nicky-s-of-beverly-chicago</td>\n",
       "      <td>2.944763</td>\n",
       "    </tr>\n",
       "    <tr>\n",
       "      <th>264</th>\n",
       "      <td>buffalo-wild-wings-chicago-6</td>\n",
       "      <td>2.837421</td>\n",
       "    </tr>\n",
       "    <tr>\n",
       "      <th>1850</th>\n",
       "      <td>smash-burger-chicago</td>\n",
       "      <td>2.718243</td>\n",
       "    </tr>\n",
       "  </tbody>\n",
       "</table>\n",
       "<p>2364 rows × 2 columns</p>\n",
       "</div>"
      ],
      "text/plain": [
       "                                    name    rating\n",
       "1809  sfera-sicilian-street-food-chicago  4.749664\n",
       "1994                  take-a-bao-chicago  4.749664\n",
       "1540                    penumbra-chicago  4.606520\n",
       "2170     the-welcome-back-lounge-chicago  4.593548\n",
       "575          dulce-de-leche-cafe-chicago  4.565497\n",
       "...                                  ...       ...\n",
       "1625   potbelly-sandwich-shop-chicago-77  3.058516\n",
       "2280                    wendys-chicago-2  2.973545\n",
       "1421          nicky-s-of-beverly-chicago  2.944763\n",
       "264         buffalo-wild-wings-chicago-6  2.837421\n",
       "1850                smash-burger-chicago  2.718243\n",
       "\n",
       "[2364 rows x 2 columns]"
      ]
     },
     "execution_count": 11,
     "metadata": {},
     "output_type": "execute_result"
    }
   ],
   "source": [
    "srs_model(str(.85))"
   ]
  },
  {
   "cell_type": "code",
   "execution_count": null,
   "metadata": {},
   "outputs": [],
   "source": []
  },
  {
   "cell_type": "code",
   "execution_count": null,
   "metadata": {},
   "outputs": [],
   "source": []
  },
  {
   "cell_type": "code",
   "execution_count": null,
   "metadata": {},
   "outputs": [],
   "source": []
  }
 ],
 "metadata": {
  "kernelspec": {
   "display_name": "Python 3",
   "language": "python",
   "name": "python3"
  },
  "language_info": {
   "codemirror_mode": {
    "name": "ipython",
    "version": 3
   },
   "file_extension": ".py",
   "mimetype": "text/x-python",
   "name": "python",
   "nbconvert_exporter": "python",
   "pygments_lexer": "ipython3",
   "version": "3.7.6"
  }
 },
 "nbformat": 4,
 "nbformat_minor": 4
}
