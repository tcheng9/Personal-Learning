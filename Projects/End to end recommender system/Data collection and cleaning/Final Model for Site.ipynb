{
 "cells": [
  {
   "cell_type": "code",
   "execution_count": 1,
   "metadata": {},
   "outputs": [],
   "source": [
    "import pandas as pd\n",
    "import numpy as np\n",
    "import os\n",
    "import flask\n",
    "import pickle"
   ]
  },
  {
   "cell_type": "code",
   "execution_count": 2,
   "metadata": {},
   "outputs": [],
   "source": [
    "#Merged_df.csv to create the final model\n",
    "df_merged = pd.read_csv(\"C:\\\\Users\\\\tchen\\\\Documents\\\\Data science\\\\Recommender_System_Project\\\\merged_df.csv\")"
   ]
  },
  {
   "cell_type": "code",
   "execution_count": 3,
   "metadata": {},
   "outputs": [],
   "source": [
    "df_merged = df_merged.drop('Unnamed: 0', axis = 1)"
   ]
  },
  {
   "cell_type": "code",
   "execution_count": 4,
   "metadata": {},
   "outputs": [],
   "source": [
    "df_merged.to_pickle(\"df_merged.pkl\")"
   ]
  },
  {
   "cell_type": "code",
   "execution_count": 5,
   "metadata": {},
   "outputs": [],
   "source": [
    "emp_arr = []\n",
    "#M is the only hyperparameter\n",
    "def srs_model(alias, percent, c):\n",
    "    V = df_merged[df_merged[alias] == '1492-cuban-fusion-chicago-2']['Count']\n",
    "    M = df_merged['Count'].quantile(percent)\n",
    "    R =  df_merged[df_merged[alias] == '1492-cuban-fusion-chicago-2']['Rating']\n",
    "    C = df_merged['Rating'].mean()\n",
    "    \n",
    "    WR = ((V/(V+M))*R) + ((M/(V+M)) * C)\n",
    "    emp_arr.append(WR)"
   ]
  },
  {
   "cell_type": "code",
   "execution_count": 6,
   "metadata": {},
   "outputs": [],
   "source": [
    "###Improving srs_model function\n",
    "\n",
    "def srs_model(percentage):\n",
    "    emp_arr = []\n",
    "    name_arr = []\n",
    "    for i in df_merged['Name']:\n",
    "    \n",
    "        V = df_merged[df_merged['Name'] == str(i)]['Count']\n",
    "        M = df_merged['Count'].quantile(percentage)\n",
    "        R =  df_merged[df_merged['Name'] == str(i) ]['Rating']\n",
    "        C = df_merged['Rating'].mean()\n",
    "\n",
    "        WR = ((V/(V+M))*R) + ((M/(V+M)) * C)\n",
    "        \n",
    "        emp_arr.append(WR.values[0])\n",
    "        name_arr.append(i)\n",
    "    zip1 = zip(name_arr, emp_arr)\n",
    "    df_new = pd.DataFrame(zip1, columns = ['name', 'rating'])\n",
    "    return df_new\n",
    "##Conclusion, I think the model works but I need to sort the data out so the top 10-20 list changes"
   ]
  },
  {
   "cell_type": "code",
   "execution_count": 7,
   "metadata": {},
   "outputs": [
    {
     "data": {
      "text/html": [
       "<div>\n",
       "<style scoped>\n",
       "    .dataframe tbody tr th:only-of-type {\n",
       "        vertical-align: middle;\n",
       "    }\n",
       "\n",
       "    .dataframe tbody tr th {\n",
       "        vertical-align: top;\n",
       "    }\n",
       "\n",
       "    .dataframe thead th {\n",
       "        text-align: right;\n",
       "    }\n",
       "</style>\n",
       "<table border=\"1\" class=\"dataframe\">\n",
       "  <thead>\n",
       "    <tr style=\"text-align: right;\">\n",
       "      <th></th>\n",
       "      <th>name</th>\n",
       "      <th>rating</th>\n",
       "    </tr>\n",
       "  </thead>\n",
       "  <tbody>\n",
       "    <tr>\n",
       "      <th>0</th>\n",
       "      <td>016-restaurant-and-sandwich-shop-chicago-5</td>\n",
       "      <td>4.241764</td>\n",
       "    </tr>\n",
       "    <tr>\n",
       "      <th>1</th>\n",
       "      <td>1492-cuban-fusion-chicago-2</td>\n",
       "      <td>3.954726</td>\n",
       "    </tr>\n",
       "    <tr>\n",
       "      <th>2</th>\n",
       "      <td>1chop-suey-chicago-3</td>\n",
       "      <td>3.887319</td>\n",
       "    </tr>\n",
       "    <tr>\n",
       "      <th>3</th>\n",
       "      <td>20-east-chicago</td>\n",
       "      <td>3.855526</td>\n",
       "    </tr>\n",
       "    <tr>\n",
       "      <th>4</th>\n",
       "      <td>2121-pantry-chicago</td>\n",
       "      <td>3.823722</td>\n",
       "    </tr>\n",
       "    <tr>\n",
       "      <th>...</th>\n",
       "      <td>...</td>\n",
       "      <td>...</td>\n",
       "    </tr>\n",
       "    <tr>\n",
       "      <th>2359</th>\n",
       "      <td>zeus-restaurant-chicago-2</td>\n",
       "      <td>3.850949</td>\n",
       "    </tr>\n",
       "    <tr>\n",
       "      <th>2360</th>\n",
       "      <td>zizis-cafe-chicago</td>\n",
       "      <td>3.943907</td>\n",
       "    </tr>\n",
       "    <tr>\n",
       "      <th>2361</th>\n",
       "      <td>zoku-sushi-chicago-3</td>\n",
       "      <td>3.751413</td>\n",
       "    </tr>\n",
       "    <tr>\n",
       "      <th>2362</th>\n",
       "      <td>zombie-taco-chicago</td>\n",
       "      <td>3.879374</td>\n",
       "    </tr>\n",
       "    <tr>\n",
       "      <th>2363</th>\n",
       "      <td>zoup-chicago</td>\n",
       "      <td>3.856079</td>\n",
       "    </tr>\n",
       "  </tbody>\n",
       "</table>\n",
       "<p>2364 rows × 2 columns</p>\n",
       "</div>"
      ],
      "text/plain": [
       "                                            name    rating\n",
       "0     016-restaurant-and-sandwich-shop-chicago-5  4.241764\n",
       "1                    1492-cuban-fusion-chicago-2  3.954726\n",
       "2                           1chop-suey-chicago-3  3.887319\n",
       "3                                20-east-chicago  3.855526\n",
       "4                            2121-pantry-chicago  3.823722\n",
       "...                                          ...       ...\n",
       "2359                   zeus-restaurant-chicago-2  3.850949\n",
       "2360                          zizis-cafe-chicago  3.943907\n",
       "2361                        zoku-sushi-chicago-3  3.751413\n",
       "2362                         zombie-taco-chicago  3.879374\n",
       "2363                                zoup-chicago  3.856079\n",
       "\n",
       "[2364 rows x 2 columns]"
      ]
     },
     "execution_count": 7,
     "metadata": {},
     "output_type": "execute_result"
    }
   ],
   "source": [
    "srs_model(.95)"
   ]
  },
  {
   "cell_type": "code",
   "execution_count": 8,
   "metadata": {},
   "outputs": [
    {
     "ename": "NameError",
     "evalue": "name 'name_arr' is not defined",
     "output_type": "error",
     "traceback": [
      "\u001b[1;31m---------------------------------------------------------------------------\u001b[0m",
      "\u001b[1;31mNameError\u001b[0m                                 Traceback (most recent call last)",
      "\u001b[1;32m<ipython-input-8-07fe4c9801d3>\u001b[0m in \u001b[0;36m<module>\u001b[1;34m\u001b[0m\n\u001b[1;32m----> 1\u001b[1;33m \u001b[0mzip1\u001b[0m \u001b[1;33m=\u001b[0m \u001b[0mzip\u001b[0m\u001b[1;33m(\u001b[0m\u001b[0mname_arr\u001b[0m\u001b[1;33m,\u001b[0m \u001b[0memp_arr\u001b[0m\u001b[1;33m)\u001b[0m\u001b[1;33m\u001b[0m\u001b[1;33m\u001b[0m\u001b[0m\n\u001b[0m",
      "\u001b[1;31mNameError\u001b[0m: name 'name_arr' is not defined"
     ]
    }
   ],
   "source": [
    "zip1 = zip(name_arr, emp_arr)"
   ]
  },
  {
   "cell_type": "code",
   "execution_count": null,
   "metadata": {},
   "outputs": [],
   "source": [
    "df_new = pd.DataFrame(zip1, columns = ['name', 'rating'])"
   ]
  },
  {
   "cell_type": "code",
   "execution_count": null,
   "metadata": {},
   "outputs": [],
   "source": [
    "df_new"
   ]
  },
  {
   "cell_type": "code",
   "execution_count": null,
   "metadata": {},
   "outputs": [],
   "source": []
  },
  {
   "cell_type": "code",
   "execution_count": null,
   "metadata": {},
   "outputs": [],
   "source": [
    "df_merged.apply(lambda row: srs_model(row))"
   ]
  },
  {
   "cell_type": "code",
   "execution_count": null,
   "metadata": {},
   "outputs": [],
   "source": [
    "df_merged[df_merged['Name'] == '1492-cuban-fusion-chicago-2']['Count']"
   ]
  },
  {
   "cell_type": "code",
   "execution_count": null,
   "metadata": {},
   "outputs": [],
   "source": [
    "emp_arr = []\n",
    "for i in df_merged['Name']:\n",
    "    \n",
    "    V = df_merged[df_merged['Name'] == str(i)]['Count']\n",
    "    M = df_merged['Count'].quantile(.75)\n",
    "    R =  df_merged[df_merged['Name'] == str(i) ]['Rating']\n",
    "    C = df_merged['Rating'].mean()\n",
    "    \n",
    "    WR = ((V/(V+M))*R) + ((M/(V+M)) * C)\n",
    "    emp_arr.append(WR.values[0])"
   ]
  },
  {
   "cell_type": "code",
   "execution_count": null,
   "metadata": {},
   "outputs": [],
   "source": [
    "df_merged['SRS Rating'] = emp_arr"
   ]
  },
  {
   "cell_type": "code",
   "execution_count": null,
   "metadata": {},
   "outputs": [],
   "source": [
    "df_merged['SRS Rating'][0][0]"
   ]
  },
  {
   "cell_type": "code",
   "execution_count": null,
   "metadata": {},
   "outputs": [],
   "source": [
    "emp_arr"
   ]
  },
  {
   "cell_type": "code",
   "execution_count": null,
   "metadata": {},
   "outputs": [],
   "source": [
    "WR.values[0]"
   ]
  },
  {
   "cell_type": "code",
   "execution_count": null,
   "metadata": {},
   "outputs": [],
   "source": [
    "df_merged.sort()"
   ]
  },
  {
   "cell_type": "code",
   "execution_count": null,
   "metadata": {},
   "outputs": [],
   "source": [
    "final_SRS = df_merged.sort_values(by = 'SRS Rating', axis = 0, ascending = False)"
   ]
  },
  {
   "cell_type": "code",
   "execution_count": null,
   "metadata": {},
   "outputs": [],
   "source": [
    "final_SRS.to_csv('built_model.csv')"
   ]
  },
  {
   "cell_type": "code",
   "execution_count": null,
   "metadata": {},
   "outputs": [],
   "source": []
  },
  {
   "cell_type": "code",
   "execution_count": null,
   "metadata": {},
   "outputs": [],
   "source": [
    "df_merged.shape\n"
   ]
  },
  {
   "cell_type": "code",
   "execution_count": null,
   "metadata": {},
   "outputs": [],
   "source": [
    "#####################Trying pickle"
   ]
  },
  {
   "cell_type": "code",
   "execution_count": null,
   "metadata": {},
   "outputs": [],
   "source": [
    "import pickle"
   ]
  },
  {
   "cell_type": "code",
   "execution_count": null,
   "metadata": {},
   "outputs": [],
   "source": [
    "#dumping the data\n",
    "pickle.dump(df_merged, open('save.p', 'wb'))"
   ]
  },
  {
   "cell_type": "code",
   "execution_count": null,
   "metadata": {},
   "outputs": [],
   "source": [
    "#loading the data into a new dataframe\n",
    "df_test = pickle.load(open('save.p', 'rb'))\n",
    "df_test"
   ]
  },
  {
   "cell_type": "code",
   "execution_count": null,
   "metadata": {},
   "outputs": [],
   "source": [
    "pickle.dump(srs_model, open('save.f', 'wb'))"
   ]
  },
  {
   "cell_type": "code",
   "execution_count": null,
   "metadata": {},
   "outputs": [],
   "source": []
  },
  {
   "cell_type": "code",
   "execution_count": null,
   "metadata": {},
   "outputs": [],
   "source": [
    "test_fn = pickle.load(open('save.f', 'rb'))"
   ]
  },
  {
   "cell_type": "code",
   "execution_count": null,
   "metadata": {},
   "outputs": [],
   "source": [
    "test_fn(.95)"
   ]
  },
  {
   "cell_type": "code",
   "execution_count": 10,
   "metadata": {},
   "outputs": [],
   "source": [
    "###Improving srs_model function\n",
    "\n",
    "def srs_model(percentage):\n",
    "    import pandas as pd\n",
    "    import numpy as np\n",
    "    import os\n",
    "    import flask\n",
    "    import pickle\n",
    "\n",
    "    #Merged_df.csv to create the final model\n",
    "    df_merged = pd.read_csv(\"C:\\\\Users\\\\tchen\\\\Documents\\\\Data science\\\\Recommender_System_Project\\\\merged_df.csv\")\n",
    "\n",
    "    df_merged = df_merged.drop('Unnamed: 0', axis = 1)\n",
    "\n",
    "    emp_arr = []\n",
    "    name_arr = []\n",
    "    for i in df_merged['Name']:\n",
    "    \n",
    "        V = df_merged[df_merged['Name'] == str(i)]['Count']\n",
    "        M = df_merged['Count'].quantile(percentage)\n",
    "        R =  df_merged[df_merged['Name'] == str(i) ]['Rating']\n",
    "        C = df_merged['Rating'].mean()\n",
    "\n",
    "        WR = ((V/(V+M))*R) + ((M/(V+M)) * C)\n",
    "        \n",
    "        emp_arr.append(WR.values[0])\n",
    "        name_arr.append(i)\n",
    "    zip1 = zip(name_arr, emp_arr)\n",
    "    df_new = pd.DataFrame(zip1, columns = ['name', 'rating'])\n",
    "    return df_new\n",
    "##Conclusion, I think the model works but I need to sort the data out so the top 10-20 list changes"
   ]
  },
  {
   "cell_type": "code",
   "execution_count": null,
   "metadata": {},
   "outputs": [],
   "source": [
    "srs_model(.95)"
   ]
  },
  {
   "cell_type": "code",
   "execution_count": null,
   "metadata": {},
   "outputs": [],
   "source": [
    "pickle.dump(srs_model, open('save2.f', 'wb'))\n",
    "\n",
    "\n"
   ]
  },
  {
   "cell_type": "code",
   "execution_count": null,
   "metadata": {},
   "outputs": [],
   "source": [
    "#dumping the data\n",
    "pickle.dump(df_merged, open('save2.p', 'wb'))"
   ]
  },
  {
   "cell_type": "code",
   "execution_count": null,
   "metadata": {},
   "outputs": [],
   "source": [
    "test_fn = pickle.load(open('save2.f', 'rb'))"
   ]
  },
  {
   "cell_type": "code",
   "execution_count": null,
   "metadata": {},
   "outputs": [],
   "source": [
    "df_test = pickle.load(open('save2.p', 'rb'))\n"
   ]
  },
  {
   "cell_type": "code",
   "execution_count": null,
   "metadata": {},
   "outputs": [],
   "source": [
    "srs_model(.95)"
   ]
  },
  {
   "cell_type": "code",
   "execution_count": null,
   "metadata": {},
   "outputs": [],
   "source": [
    "pickle.dump(srs_model, open(\"model.pkl\", \"wb\"))\n"
   ]
  },
  {
   "cell_type": "code",
   "execution_count": 3,
   "metadata": {},
   "outputs": [
    {
     "ename": "AttributeError",
     "evalue": "Can't get attribute 'srs_model' on <module '__main__'>",
     "output_type": "error",
     "traceback": [
      "\u001b[1;31m---------------------------------------------------------------------------\u001b[0m",
      "\u001b[1;31mAttributeError\u001b[0m                            Traceback (most recent call last)",
      "\u001b[1;32m<ipython-input-3-06cd2052c4ed>\u001b[0m in \u001b[0;36m<module>\u001b[1;34m\u001b[0m\n\u001b[1;32m----> 1\u001b[1;33m \u001b[0mmodel\u001b[0m \u001b[1;33m=\u001b[0m \u001b[0mpickle\u001b[0m\u001b[1;33m.\u001b[0m\u001b[0mload\u001b[0m\u001b[1;33m(\u001b[0m\u001b[0mopen\u001b[0m\u001b[1;33m(\u001b[0m\u001b[1;34m\"model.pkl\"\u001b[0m\u001b[1;33m,\u001b[0m \u001b[1;34m\"rb\"\u001b[0m\u001b[1;33m)\u001b[0m\u001b[1;33m)\u001b[0m\u001b[1;33m\u001b[0m\u001b[1;33m\u001b[0m\u001b[0m\n\u001b[0m",
      "\u001b[1;31mAttributeError\u001b[0m: Can't get attribute 'srs_model' on <module '__main__'>"
     ]
    }
   ],
   "source": [
    "model = pickle.load(open(\"model.pkl\", \"rb\"))\n"
   ]
  },
  {
   "cell_type": "code",
   "execution_count": null,
   "metadata": {},
   "outputs": [],
   "source": [
    "print(model(.85))"
   ]
  },
  {
   "cell_type": "code",
   "execution_count": 4,
   "metadata": {},
   "outputs": [
    {
     "ename": "NameError",
     "evalue": "name 'df_merged' is not defined",
     "output_type": "error",
     "traceback": [
      "\u001b[1;31m---------------------------------------------------------------------------\u001b[0m",
      "\u001b[1;31mNameError\u001b[0m                                 Traceback (most recent call last)",
      "\u001b[1;32m<ipython-input-4-5b8d8cd5c221>\u001b[0m in \u001b[0;36m<module>\u001b[1;34m\u001b[0m\n\u001b[1;32m----> 1\u001b[1;33m \u001b[0mdf_merged\u001b[0m\u001b[1;33m\u001b[0m\u001b[1;33m\u001b[0m\u001b[0m\n\u001b[0m",
      "\u001b[1;31mNameError\u001b[0m: name 'df_merged' is not defined"
     ]
    }
   ],
   "source": [
    "df_merged"
   ]
  },
  {
   "cell_type": "code",
   "execution_count": 8,
   "metadata": {},
   "outputs": [],
   "source": [
    "df_merged.to_pickle(\"pythonic_df.pkl\")"
   ]
  },
  {
   "cell_type": "code",
   "execution_count": null,
   "metadata": {},
   "outputs": [],
   "source": []
  },
  {
   "cell_type": "code",
   "execution_count": null,
   "metadata": {},
   "outputs": [],
   "source": [
    "#trying to save the function"
   ]
  },
  {
   "cell_type": "code",
   "execution_count": 11,
   "metadata": {},
   "outputs": [
    {
     "ename": "NameError",
     "evalue": "name 'sns_model' is not defined",
     "output_type": "error",
     "traceback": [
      "\u001b[1;31m---------------------------------------------------------------------------\u001b[0m",
      "\u001b[1;31mNameError\u001b[0m                                 Traceback (most recent call last)",
      "\u001b[1;32m<ipython-input-11-f391fffd56a0>\u001b[0m in \u001b[0;36m<module>\u001b[1;34m\u001b[0m\n\u001b[1;32m----> 1\u001b[1;33m \u001b[0msns_model\u001b[0m\u001b[1;33m(\u001b[0m\u001b[1;36m.9\u001b[0m\u001b[1;33m)\u001b[0m\u001b[1;33m\u001b[0m\u001b[1;33m\u001b[0m\u001b[0m\n\u001b[0m",
      "\u001b[1;31mNameError\u001b[0m: name 'sns_model' is not defined"
     ]
    }
   ],
   "source": [
    "sns_model(.9)"
   ]
  },
  {
   "cell_type": "code",
   "execution_count": 30,
   "metadata": {},
   "outputs": [],
   "source": [
    "emp_arr = []\n",
    "#M is the only hyperparameter\n",
    "def srs_model(alias, percent, c):\n",
    "    V = df_merged[df_merged[alias] == '1492-cuban-fusion-chicago-2']['Count']\n",
    "    M = df_merged['Count'].quantile(percent)\n",
    "    R =  df_merged[df_merged[alias] == '1492-cuban-fusion-chicago-2']['Rating']\n",
    "    C = df_merged['Rating'].mean()\n",
    "    \n",
    "    WR = ((V/(V+M))*R) + ((M/(V+M)) * C)\n",
    "    emp_arr.append(WR)"
   ]
  },
  {
   "cell_type": "code",
   "execution_count": 31,
   "metadata": {},
   "outputs": [],
   "source": [
    "f = open('example', 'ab')"
   ]
  },
  {
   "cell_type": "code",
   "execution_count": 32,
   "metadata": {},
   "outputs": [],
   "source": [
    "pickle.dump(srs_model, f)"
   ]
  },
  {
   "cell_type": "code",
   "execution_count": 33,
   "metadata": {},
   "outputs": [],
   "source": [
    "f.close()"
   ]
  },
  {
   "cell_type": "code",
   "execution_count": 34,
   "metadata": {},
   "outputs": [
    {
     "ename": "AttributeError",
     "evalue": "'_io.BufferedWriter' object has no attribute 'open'",
     "output_type": "error",
     "traceback": [
      "\u001b[1;31m---------------------------------------------------------------------------\u001b[0m",
      "\u001b[1;31mAttributeError\u001b[0m                            Traceback (most recent call last)",
      "\u001b[1;32m<ipython-input-34-c9002cdabf6f>\u001b[0m in \u001b[0;36m<module>\u001b[1;34m\u001b[0m\n\u001b[1;32m----> 1\u001b[1;33m \u001b[0mf\u001b[0m\u001b[1;33m.\u001b[0m\u001b[0mopen\u001b[0m\u001b[1;33m(\u001b[0m\u001b[1;34m'example'\u001b[0m\u001b[1;33m,\u001b[0m \u001b[1;34m'rb'\u001b[0m\u001b[1;33m)\u001b[0m\u001b[1;33m\u001b[0m\u001b[1;33m\u001b[0m\u001b[0m\n\u001b[0m",
      "\u001b[1;31mAttributeError\u001b[0m: '_io.BufferedWriter' object has no attribute 'open'"
     ]
    }
   ],
   "source": [
    "f.open('example', 'rb')"
   ]
  },
  {
   "cell_type": "code",
   "execution_count": null,
   "metadata": {},
   "outputs": [],
   "source": []
  }
 ],
 "metadata": {
  "kernelspec": {
   "display_name": "Python 3",
   "language": "python",
   "name": "python3"
  },
  "language_info": {
   "codemirror_mode": {
    "name": "ipython",
    "version": 3
   },
   "file_extension": ".py",
   "mimetype": "text/x-python",
   "name": "python",
   "nbconvert_exporter": "python",
   "pygments_lexer": "ipython3",
   "version": "3.7.6"
  }
 },
 "nbformat": 4,
 "nbformat_minor": 4
}
