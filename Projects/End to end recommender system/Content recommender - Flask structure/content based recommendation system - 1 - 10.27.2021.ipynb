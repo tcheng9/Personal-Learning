{
 "cells": [
  {
   "cell_type": "code",
   "execution_count": 1,
   "metadata": {},
   "outputs": [],
   "source": [
    "import pandas as pd\n",
    "import numpy as np\n",
    "import os"
   ]
  },
  {
   "cell_type": "markdown",
   "metadata": {},
   "source": [
    "Start of loading and merge csv files"
   ]
  },
  {
   "cell_type": "code",
   "execution_count": 2,
   "metadata": {},
   "outputs": [
    {
     "data": {
      "text/plain": [
       "'C:\\\\Users\\\\tchen\\\\Documents\\\\Data science\\\\Recommender_System_Project\\\\Context based recommender system'"
      ]
     },
     "execution_count": 2,
     "metadata": {},
     "output_type": "execute_result"
    }
   ],
   "source": [
    "os.getcwd()"
   ]
  },
  {
   "cell_type": "code",
   "execution_count": 3,
   "metadata": {},
   "outputs": [],
   "source": [
    "direct = os.chdir(\"C:\\\\Users\\\\tchen\\\\Documents\\\\Data science\\\\Recommender_System_Project\\\\Context based recommender system\")"
   ]
  },
  {
   "cell_type": "code",
   "execution_count": 4,
   "metadata": {},
   "outputs": [
    {
     "data": {
      "text/plain": [
       "'C:\\\\Users\\\\tchen\\\\Documents\\\\Data science\\\\Recommender_System_Project\\\\Context based recommender system'"
      ]
     },
     "execution_count": 4,
     "metadata": {},
     "output_type": "execute_result"
    }
   ],
   "source": [
    "os.getcwd()"
   ]
  },
  {
   "cell_type": "code",
   "execution_count": null,
   "metadata": {},
   "outputs": [],
   "source": []
  },
  {
   "cell_type": "code",
   "execution_count": 5,
   "metadata": {},
   "outputs": [
    {
     "data": {
      "text/plain": [
       "'\\nfor i in os.listdir(\"C:\\\\Users\\\\tchen\\\\Documents\\\\Data science\\\\Recommender_System_Project\\\\Context based recommender system\"):\\n    print(i)\\n    df = \\n    \\n'"
      ]
     },
     "execution_count": 5,
     "metadata": {},
     "output_type": "execute_result"
    }
   ],
   "source": [
    "\"\"\"\n",
    "for i in os.listdir(\"C:\\\\Users\\\\tchen\\\\Documents\\\\Data science\\\\Recommender_System_Project\\\\Context based recommender system\"):\n",
    "    print(i)\n",
    "    df = \n",
    "    \n",
    "\"\"\""
   ]
  },
  {
   "cell_type": "code",
   "execution_count": null,
   "metadata": {},
   "outputs": [],
   "source": []
  },
  {
   "cell_type": "code",
   "execution_count": 6,
   "metadata": {},
   "outputs": [],
   "source": [
    "##The fastest way to merge multiple CSV files with the same header together\n",
    "##Source: https://stackoverflow.com/questions/44211461/what-is-the-fastest-way-to-combine-100-csv-files-with-headers-into-one\n",
    "\n",
    "with open(\"restaurant_reviews1_1.csv\", \"wb\") as fout: \n",
    "    with open(\"restaurant_reviews2.csv\", \"rb\") as f:\n",
    "        fout.write(f.read())\n",
    "    for num in range(2, 7):\n",
    "        with open(\"restaurant_reviews\" + str(num) + \".csv\", \"rb\") as f:\n",
    "            next(f)\n",
    "            fout.write(f.read())"
   ]
  },
  {
   "cell_type": "code",
   "execution_count": 7,
   "metadata": {},
   "outputs": [],
   "source": [
    "df = pd.read_csv(\"C:\\\\Users\\\\tchen\\\\Documents\\\\Data science\\\\Recommender_System_Project\\\\Context based recommender system\\\\restaurant_reviews_merged.csv\")"
   ]
  },
  {
   "cell_type": "code",
   "execution_count": 53,
   "metadata": {},
   "outputs": [
    {
     "data": {
      "text/html": [
       "<div>\n",
       "<style scoped>\n",
       "    .dataframe tbody tr th:only-of-type {\n",
       "        vertical-align: middle;\n",
       "    }\n",
       "\n",
       "    .dataframe tbody tr th {\n",
       "        vertical-align: top;\n",
       "    }\n",
       "\n",
       "    .dataframe thead th {\n",
       "        text-align: right;\n",
       "    }\n",
       "</style>\n",
       "<table border=\"1\" class=\"dataframe\">\n",
       "  <thead>\n",
       "    <tr style=\"text-align: right;\">\n",
       "      <th></th>\n",
       "      <th>Unnamed: 0</th>\n",
       "      <th>restaurant name</th>\n",
       "      <th>review</th>\n",
       "    </tr>\n",
       "  </thead>\n",
       "  <tbody>\n",
       "    <tr>\n",
       "      <th>0</th>\n",
       "      <td>0</td>\n",
       "      <td>the-purple-pig-chicago</td>\n",
       "      <td>MY FAVORITE RESTAURANT IN CHICAGO!Reservations...</td>\n",
       "    </tr>\n",
       "    <tr>\n",
       "      <th>1</th>\n",
       "      <td>1</td>\n",
       "      <td>the-purple-pig-chicago</td>\n",
       "      <td>Was the highlight of my Chicago trip. I was ab...</td>\n",
       "    </tr>\n",
       "    <tr>\n",
       "      <th>2</th>\n",
       "      <td>2</td>\n",
       "      <td>the-purple-pig-chicago</td>\n",
       "      <td>Plates are meant to be shared, which is great ...</td>\n",
       "    </tr>\n",
       "    <tr>\n",
       "      <th>3</th>\n",
       "      <td>3</td>\n",
       "      <td>the-purple-pig-chicago</td>\n",
       "      <td>What more can I say that hasn't already been s...</td>\n",
       "    </tr>\n",
       "    <tr>\n",
       "      <th>4</th>\n",
       "      <td>4</td>\n",
       "      <td>the-purple-pig-chicago</td>\n",
       "      <td>Great food. Review of all the items we tried:S...</td>\n",
       "    </tr>\n",
       "    <tr>\n",
       "      <th>...</th>\n",
       "      <td>...</td>\n",
       "      <td>...</td>\n",
       "      <td>...</td>\n",
       "    </tr>\n",
       "    <tr>\n",
       "      <th>46999</th>\n",
       "      <td>572</td>\n",
       "      <td>mcdonalds-chicago-156</td>\n",
       "      <td>This particular location has improved in the l...</td>\n",
       "    </tr>\n",
       "    <tr>\n",
       "      <th>47000</th>\n",
       "      <td>573</td>\n",
       "      <td>papa-johns-pizza-chicago-23</td>\n",
       "      <td>Average pizza... just okay... not so good cust...</td>\n",
       "    </tr>\n",
       "    <tr>\n",
       "      <th>47001</th>\n",
       "      <td>574</td>\n",
       "      <td>papa-johns-pizza-chicago-23</td>\n",
       "      <td>Warning bells went off when I went to pick up ...</td>\n",
       "    </tr>\n",
       "    <tr>\n",
       "      <th>47002</th>\n",
       "      <td>575</td>\n",
       "      <td>papa-johns-pizza-chicago-23</td>\n",
       "      <td>I've ordered from the 87th location three time...</td>\n",
       "    </tr>\n",
       "    <tr>\n",
       "      <th>47003</th>\n",
       "      <td>576</td>\n",
       "      <td>papa-johns-pizza-chicago-23</td>\n",
       "      <td>I asked for a square cut pizza for the third t...</td>\n",
       "    </tr>\n",
       "  </tbody>\n",
       "</table>\n",
       "<p>47004 rows × 3 columns</p>\n",
       "</div>"
      ],
      "text/plain": [
       "       Unnamed: 0              restaurant name  \\\n",
       "0               0       the-purple-pig-chicago   \n",
       "1               1       the-purple-pig-chicago   \n",
       "2               2       the-purple-pig-chicago   \n",
       "3               3       the-purple-pig-chicago   \n",
       "4               4       the-purple-pig-chicago   \n",
       "...           ...                          ...   \n",
       "46999         572        mcdonalds-chicago-156   \n",
       "47000         573  papa-johns-pizza-chicago-23   \n",
       "47001         574  papa-johns-pizza-chicago-23   \n",
       "47002         575  papa-johns-pizza-chicago-23   \n",
       "47003         576  papa-johns-pizza-chicago-23   \n",
       "\n",
       "                                                  review  \n",
       "0      MY FAVORITE RESTAURANT IN CHICAGO!Reservations...  \n",
       "1      Was the highlight of my Chicago trip. I was ab...  \n",
       "2      Plates are meant to be shared, which is great ...  \n",
       "3      What more can I say that hasn't already been s...  \n",
       "4      Great food. Review of all the items we tried:S...  \n",
       "...                                                  ...  \n",
       "46999  This particular location has improved in the l...  \n",
       "47000  Average pizza... just okay... not so good cust...  \n",
       "47001  Warning bells went off when I went to pick up ...  \n",
       "47002  I've ordered from the 87th location three time...  \n",
       "47003  I asked for a square cut pizza for the third t...  \n",
       "\n",
       "[47004 rows x 3 columns]"
      ]
     },
     "execution_count": 53,
     "metadata": {},
     "output_type": "execute_result"
    }
   ],
   "source": []
  },
  {
   "cell_type": "code",
   "execution_count": 8,
   "metadata": {},
   "outputs": [],
   "source": [
    "df = df.drop(columns = [\"Unnamed: 0\"], axis = 1)"
   ]
  },
  {
   "cell_type": "code",
   "execution_count": null,
   "metadata": {},
   "outputs": [],
   "source": []
  },
  {
   "cell_type": "markdown",
   "metadata": {},
   "source": [
    "For each restaurant, merge their reviews together THEN Compute cosine similiarity scores\n"
   ]
  },
  {
   "cell_type": "code",
   "execution_count": 60,
   "metadata": {},
   "outputs": [],
   "source": [
    "df[df['restaurant name'] == 'the-purple-pig-chicago']['review']\n",
    "emp_str = \"\"\n",
    "for i in df[df['restaurant name'] == 'the-purple-pig-chicago']['review']:\n",
    "    emp_str += i"
   ]
  },
  {
   "cell_type": "code",
   "execution_count": 9,
   "metadata": {},
   "outputs": [],
   "source": [
    "##Create a dictionary"
   ]
  },
  {
   "cell_type": "code",
   "execution_count": 10,
   "metadata": {
    "scrolled": true
   },
   "outputs": [],
   "source": [
    "########Checking and removing Nan if needed"
   ]
  },
  {
   "cell_type": "code",
   "execution_count": 62,
   "metadata": {},
   "outputs": [],
   "source": []
  },
  {
   "cell_type": "code",
   "execution_count": 66,
   "metadata": {},
   "outputs": [
    {
     "ename": "ValueError",
     "evalue": "dictionary update sequence element #0 has length 1; 2 is required",
     "output_type": "error",
     "traceback": [
      "\u001b[1;31m---------------------------------------------------------------------------\u001b[0m",
      "\u001b[1;31mValueError\u001b[0m                                Traceback (most recent call last)",
      "\u001b[1;32m<ipython-input-66-79fd7ddaed44>\u001b[0m in \u001b[0;36m<module>\u001b[1;34m\u001b[0m\n\u001b[1;32m----> 1\u001b[1;33m \u001b[0ma\u001b[0m\u001b[1;33m.\u001b[0m\u001b[0mupdate\u001b[0m\u001b[1;33m(\u001b[0m\u001b[1;34m\"c\"\u001b[0m\u001b[1;33m)\u001b[0m\u001b[1;33m\u001b[0m\u001b[1;33m\u001b[0m\u001b[0m\n\u001b[0m",
      "\u001b[1;31mValueError\u001b[0m: dictionary update sequence element #0 has length 1; 2 is required"
     ]
    }
   ],
   "source": []
  },
  {
   "cell_type": "code",
   "execution_count": 67,
   "metadata": {},
   "outputs": [],
   "source": []
  },
  {
   "cell_type": "code",
   "execution_count": 68,
   "metadata": {},
   "outputs": [],
   "source": []
  },
  {
   "cell_type": "code",
   "execution_count": 11,
   "metadata": {},
   "outputs": [],
   "source": [
    "df = pd.read_csv(\"C:\\\\Users\\\\tchen\\\\Documents\\\\Data science\\\\Recommender_System_Project\\\\Context based recommender system\\\\restaurant_reviews1_1.csv\")"
   ]
  },
  {
   "cell_type": "code",
   "execution_count": 12,
   "metadata": {},
   "outputs": [],
   "source": [
    "#Combining reviews\n",
    "a = df.groupby(['restaurant name'])['review'].apply(lambda x: ','.join(x)).reset_index()\n"
   ]
  },
  {
   "cell_type": "code",
   "execution_count": 38,
   "metadata": {},
   "outputs": [],
   "source": [
    "#Python how to turn a list into a dataframe\n",
    "df = pd.DataFrame(a)"
   ]
  },
  {
   "cell_type": "code",
   "execution_count": 39,
   "metadata": {},
   "outputs": [
    {
     "data": {
      "text/html": [
       "<div>\n",
       "<style scoped>\n",
       "    .dataframe tbody tr th:only-of-type {\n",
       "        vertical-align: middle;\n",
       "    }\n",
       "\n",
       "    .dataframe tbody tr th {\n",
       "        vertical-align: top;\n",
       "    }\n",
       "\n",
       "    .dataframe thead th {\n",
       "        text-align: right;\n",
       "    }\n",
       "</style>\n",
       "<table border=\"1\" class=\"dataframe\">\n",
       "  <thead>\n",
       "    <tr style=\"text-align: right;\">\n",
       "      <th></th>\n",
       "      <th>restaurant name</th>\n",
       "      <th>review</th>\n",
       "      <th>no stop words review</th>\n",
       "    </tr>\n",
       "  </thead>\n",
       "  <tbody>\n",
       "    <tr>\n",
       "      <th>0</th>\n",
       "      <td>10q-chicken-chicago</td>\n",
       "      <td>This is the brand-new Hayden Hall location of ...</td>\n",
       "      <td>This brand-new Hayden Hall location 10Q Chicke...</td>\n",
       "    </tr>\n",
       "    <tr>\n",
       "      <th>1</th>\n",
       "      <td>1959-kitchen-and-bar-chicago</td>\n",
       "      <td>The food was surprisingly good for being withi...</td>\n",
       "      <td>The food surprisingly good within Second City....</td>\n",
       "    </tr>\n",
       "    <tr>\n",
       "      <th>2</th>\n",
       "      <td>2121-pantry-chicago</td>\n",
       "      <td>Great way to start the day off with a tasty br...</td>\n",
       "      <td>Great way start day tasty breakfast sandwich W...</td>\n",
       "    </tr>\n",
       "    <tr>\n",
       "      <th>3</th>\n",
       "      <td>3-arts-club-café-chicago-9</td>\n",
       "      <td>This place was really really posh. It's situat...</td>\n",
       "      <td>This place really really posh. It's situated r...</td>\n",
       "    </tr>\n",
       "    <tr>\n",
       "      <th>4</th>\n",
       "      <td>3-kings-jerk-chicago</td>\n",
       "      <td>The eggrolls at this place are delicious.  The...</td>\n",
       "      <td>The eggrolls place delicious. They made order ...</td>\n",
       "    </tr>\n",
       "    <tr>\n",
       "      <th>...</th>\n",
       "      <td>...</td>\n",
       "      <td>...</td>\n",
       "      <td>...</td>\n",
       "    </tr>\n",
       "    <tr>\n",
       "      <th>1794</th>\n",
       "      <td>zeus-restaurant-chicago-2</td>\n",
       "      <td>Zeus is straight . Gotta hit them up at least ...</td>\n",
       "      <td>Zeus straight . Gotta hit least week gyro plat...</td>\n",
       "    </tr>\n",
       "    <tr>\n",
       "      <th>1795</th>\n",
       "      <td>zizis-cafe-chicago</td>\n",
       "      <td>One of the best places I have ever eaten in Ch...</td>\n",
       "      <td>One best places I ever eaten Chicago! From app...</td>\n",
       "    </tr>\n",
       "    <tr>\n",
       "      <th>1796</th>\n",
       "      <td>zoku-sushi-chicago-3</td>\n",
       "      <td>Local spot for amazing sushi plating with a de...</td>\n",
       "      <td>Local spot amazing sushi plating delicious sel...</td>\n",
       "    </tr>\n",
       "    <tr>\n",
       "      <th>1797</th>\n",
       "      <td>zombie-taco-chicago</td>\n",
       "      <td>*GLUTEN FREE/ ALLERGY REVIEW * We were informe...</td>\n",
       "      <td>*GLUTEN FREE/ ALLERGY REVIEW * We informed fry...</td>\n",
       "    </tr>\n",
       "    <tr>\n",
       "      <th>1798</th>\n",
       "      <td>zoup-chicago</td>\n",
       "      <td>I've ordered from this place twice and every t...</td>\n",
       "      <td>I've ordered place twice every time food delic...</td>\n",
       "    </tr>\n",
       "  </tbody>\n",
       "</table>\n",
       "<p>1799 rows × 3 columns</p>\n",
       "</div>"
      ],
      "text/plain": [
       "                   restaurant name  \\\n",
       "0              10q-chicken-chicago   \n",
       "1     1959-kitchen-and-bar-chicago   \n",
       "2              2121-pantry-chicago   \n",
       "3       3-arts-club-café-chicago-9   \n",
       "4             3-kings-jerk-chicago   \n",
       "...                            ...   \n",
       "1794     zeus-restaurant-chicago-2   \n",
       "1795            zizis-cafe-chicago   \n",
       "1796          zoku-sushi-chicago-3   \n",
       "1797           zombie-taco-chicago   \n",
       "1798                  zoup-chicago   \n",
       "\n",
       "                                                 review  \\\n",
       "0     This is the brand-new Hayden Hall location of ...   \n",
       "1     The food was surprisingly good for being withi...   \n",
       "2     Great way to start the day off with a tasty br...   \n",
       "3     This place was really really posh. It's situat...   \n",
       "4     The eggrolls at this place are delicious.  The...   \n",
       "...                                                 ...   \n",
       "1794  Zeus is straight . Gotta hit them up at least ...   \n",
       "1795  One of the best places I have ever eaten in Ch...   \n",
       "1796  Local spot for amazing sushi plating with a de...   \n",
       "1797  *GLUTEN FREE/ ALLERGY REVIEW * We were informe...   \n",
       "1798  I've ordered from this place twice and every t...   \n",
       "\n",
       "                                   no stop words review  \n",
       "0     This brand-new Hayden Hall location 10Q Chicke...  \n",
       "1     The food surprisingly good within Second City....  \n",
       "2     Great way start day tasty breakfast sandwich W...  \n",
       "3     This place really really posh. It's situated r...  \n",
       "4     The eggrolls place delicious. They made order ...  \n",
       "...                                                 ...  \n",
       "1794  Zeus straight . Gotta hit least week gyro plat...  \n",
       "1795  One best places I ever eaten Chicago! From app...  \n",
       "1796  Local spot amazing sushi plating delicious sel...  \n",
       "1797  *GLUTEN FREE/ ALLERGY REVIEW * We informed fry...  \n",
       "1798  I've ordered place twice every time food delic...  \n",
       "\n",
       "[1799 rows x 3 columns]"
      ]
     },
     "execution_count": 39,
     "metadata": {},
     "output_type": "execute_result"
    }
   ],
   "source": []
  },
  {
   "cell_type": "code",
   "execution_count": 79,
   "metadata": {},
   "outputs": [
    {
     "data": {
      "text/plain": [
       "2635"
      ]
     },
     "execution_count": 79,
     "metadata": {},
     "output_type": "execute_result"
    }
   ],
   "source": []
  },
  {
   "cell_type": "markdown",
   "metadata": {},
   "source": [
    "#Examining missing data"
   ]
  },
  {
   "cell_type": "code",
   "execution_count": 15,
   "metadata": {},
   "outputs": [],
   "source": [
    "import missingno as msno"
   ]
  },
  {
   "cell_type": "code",
   "execution_count": 16,
   "metadata": {},
   "outputs": [
    {
     "data": {
      "text/plain": [
       "<matplotlib.axes._subplots.AxesSubplot at 0x2486fa71748>"
      ]
     },
     "execution_count": 16,
     "metadata": {},
     "output_type": "execute_result"
    },
    {
     "data": {
      "image/png": "[encoded data removed]",
      "text/plain": [
       "<Figure size 1728x720 with 3 Axes>"
      ]
     },
     "metadata": {
      "needs_background": "light"
     },
     "output_type": "display_data"
    }
   ],
   "source": [
    "df['review'].isna().sum()\n",
    "\n",
    "msno.bar(df)"
   ]
  },
  {
   "cell_type": "code",
   "execution_count": 14,
   "metadata": {},
   "outputs": [
    {
     "data": {
      "text/plain": [
       "<matplotlib.axes._subplots.AxesSubplot at 0x1e940efdfc8>"
      ]
     },
     "execution_count": 14,
     "metadata": {},
     "output_type": "execute_result"
    },
    {
     "data": {
      "image/png": "[encoded data removed]",
      "text/plain": [
       "<Figure size 1800x720 with 2 Axes>"
      ]
     },
     "metadata": {
      "needs_background": "light"
     },
     "output_type": "display_data"
    }
   ],
   "source": [
    "msno.matrix(df)"
   ]
  },
  {
   "cell_type": "code",
   "execution_count": 17,
   "metadata": {},
   "outputs": [
    {
     "name": "stdout",
     "output_type": "stream",
     "text": [
      "['i', 'me', 'my', 'myself', 'we', 'our', 'ours', 'ourselves', 'you', \"you're\", \"you've\", \"you'll\", \"you'd\", 'your', 'yours', 'yourself', 'yourselves', 'he', 'him', 'his', 'himself', 'she', \"she's\", 'her', 'hers', 'herself', 'it', \"it's\", 'its', 'itself', 'they', 'them', 'their', 'theirs', 'themselves', 'what', 'which', 'who', 'whom', 'this', 'that', \"that'll\", 'these', 'those', 'am', 'is', 'are', 'was', 'were', 'be', 'been', 'being', 'have', 'has', 'had', 'having', 'do', 'does', 'did', 'doing', 'a', 'an', 'the', 'and', 'but', 'if', 'or', 'because', 'as', 'until', 'while', 'of', 'at', 'by', 'for', 'with', 'about', 'against', 'between', 'into', 'through', 'during', 'before', 'after', 'above', 'below', 'to', 'from', 'up', 'down', 'in', 'out', 'on', 'off', 'over', 'under', 'again', 'further', 'then', 'once', 'here', 'there', 'when', 'where', 'why', 'how', 'all', 'any', 'both', 'each', 'few', 'more', 'most', 'other', 'some', 'such', 'no', 'nor', 'not', 'only', 'own', 'same', 'so', 'than', 'too', 'very', 's', 't', 'can', 'will', 'just', 'don', \"don't\", 'should', \"should've\", 'now', 'd', 'll', 'm', 'o', 're', 've', 'y', 'ain', 'aren', \"aren't\", 'couldn', \"couldn't\", 'didn', \"didn't\", 'doesn', \"doesn't\", 'hadn', \"hadn't\", 'hasn', \"hasn't\", 'haven', \"haven't\", 'isn', \"isn't\", 'ma', 'mightn', \"mightn't\", 'mustn', \"mustn't\", 'needn', \"needn't\", 'shan', \"shan't\", 'shouldn', \"shouldn't\", 'wasn', \"wasn't\", 'weren', \"weren't\", 'won', \"won't\", 'wouldn', \"wouldn't\"]\n"
     ]
    }
   ],
   "source": [
    "#####How to get rid of stop words\n",
    "import nltk\n",
    "from nltk.corpus import stopwords\n",
    "from nltk.tokenize import word_tokenize\n",
    "print(stopwords.words('english'))"
   ]
  },
  {
   "cell_type": "code",
   "execution_count": 40,
   "metadata": {},
   "outputs": [],
   "source": [
    "#Stopwords variable\n",
    "stop = stopwords.words('english')\n"
   ]
  },
  {
   "cell_type": "code",
   "execution_count": 41,
   "metadata": {},
   "outputs": [],
   "source": [
    "#Exclude stopwrods with python list coomprehension and pandas.df.apply\n",
    "df['no stop words review'] = df['review'].apply(lambda x: ' '.join([word for word in x.split() if word not in (stop)]))"
   ]
  },
  {
   "cell_type": "code",
   "execution_count": 42,
   "metadata": {},
   "outputs": [
    {
     "data": {
      "text/html": [
       "<div>\n",
       "<style scoped>\n",
       "    .dataframe tbody tr th:only-of-type {\n",
       "        vertical-align: middle;\n",
       "    }\n",
       "\n",
       "    .dataframe tbody tr th {\n",
       "        vertical-align: top;\n",
       "    }\n",
       "\n",
       "    .dataframe thead th {\n",
       "        text-align: right;\n",
       "    }\n",
       "</style>\n",
       "<table border=\"1\" class=\"dataframe\">\n",
       "  <thead>\n",
       "    <tr style=\"text-align: right;\">\n",
       "      <th></th>\n",
       "      <th>restaurant name</th>\n",
       "      <th>review</th>\n",
       "      <th>no stop words review</th>\n",
       "    </tr>\n",
       "  </thead>\n",
       "  <tbody>\n",
       "    <tr>\n",
       "      <th>0</th>\n",
       "      <td>10q-chicken-chicago</td>\n",
       "      <td>This is the brand-new Hayden Hall location of ...</td>\n",
       "      <td>This brand-new Hayden Hall location 10Q Chicke...</td>\n",
       "    </tr>\n",
       "    <tr>\n",
       "      <th>1</th>\n",
       "      <td>1959-kitchen-and-bar-chicago</td>\n",
       "      <td>The food was surprisingly good for being withi...</td>\n",
       "      <td>The food surprisingly good within Second City....</td>\n",
       "    </tr>\n",
       "    <tr>\n",
       "      <th>2</th>\n",
       "      <td>2121-pantry-chicago</td>\n",
       "      <td>Great way to start the day off with a tasty br...</td>\n",
       "      <td>Great way start day tasty breakfast sandwich W...</td>\n",
       "    </tr>\n",
       "    <tr>\n",
       "      <th>3</th>\n",
       "      <td>3-arts-club-café-chicago-9</td>\n",
       "      <td>This place was really really posh. It's situat...</td>\n",
       "      <td>This place really really posh. It's situated r...</td>\n",
       "    </tr>\n",
       "    <tr>\n",
       "      <th>4</th>\n",
       "      <td>3-kings-jerk-chicago</td>\n",
       "      <td>The eggrolls at this place are delicious.  The...</td>\n",
       "      <td>The eggrolls place delicious. They made order ...</td>\n",
       "    </tr>\n",
       "    <tr>\n",
       "      <th>...</th>\n",
       "      <td>...</td>\n",
       "      <td>...</td>\n",
       "      <td>...</td>\n",
       "    </tr>\n",
       "    <tr>\n",
       "      <th>1794</th>\n",
       "      <td>zeus-restaurant-chicago-2</td>\n",
       "      <td>Zeus is straight . Gotta hit them up at least ...</td>\n",
       "      <td>Zeus straight . Gotta hit least week gyro plat...</td>\n",
       "    </tr>\n",
       "    <tr>\n",
       "      <th>1795</th>\n",
       "      <td>zizis-cafe-chicago</td>\n",
       "      <td>One of the best places I have ever eaten in Ch...</td>\n",
       "      <td>One best places I ever eaten Chicago! From app...</td>\n",
       "    </tr>\n",
       "    <tr>\n",
       "      <th>1796</th>\n",
       "      <td>zoku-sushi-chicago-3</td>\n",
       "      <td>Local spot for amazing sushi plating with a de...</td>\n",
       "      <td>Local spot amazing sushi plating delicious sel...</td>\n",
       "    </tr>\n",
       "    <tr>\n",
       "      <th>1797</th>\n",
       "      <td>zombie-taco-chicago</td>\n",
       "      <td>*GLUTEN FREE/ ALLERGY REVIEW * We were informe...</td>\n",
       "      <td>*GLUTEN FREE/ ALLERGY REVIEW * We informed fry...</td>\n",
       "    </tr>\n",
       "    <tr>\n",
       "      <th>1798</th>\n",
       "      <td>zoup-chicago</td>\n",
       "      <td>I've ordered from this place twice and every t...</td>\n",
       "      <td>I've ordered place twice every time food delic...</td>\n",
       "    </tr>\n",
       "  </tbody>\n",
       "</table>\n",
       "<p>1799 rows × 3 columns</p>\n",
       "</div>"
      ],
      "text/plain": [
       "                   restaurant name  \\\n",
       "0              10q-chicken-chicago   \n",
       "1     1959-kitchen-and-bar-chicago   \n",
       "2              2121-pantry-chicago   \n",
       "3       3-arts-club-café-chicago-9   \n",
       "4             3-kings-jerk-chicago   \n",
       "...                            ...   \n",
       "1794     zeus-restaurant-chicago-2   \n",
       "1795            zizis-cafe-chicago   \n",
       "1796          zoku-sushi-chicago-3   \n",
       "1797           zombie-taco-chicago   \n",
       "1798                  zoup-chicago   \n",
       "\n",
       "                                                 review  \\\n",
       "0     This is the brand-new Hayden Hall location of ...   \n",
       "1     The food was surprisingly good for being withi...   \n",
       "2     Great way to start the day off with a tasty br...   \n",
       "3     This place was really really posh. It's situat...   \n",
       "4     The eggrolls at this place are delicious.  The...   \n",
       "...                                                 ...   \n",
       "1794  Zeus is straight . Gotta hit them up at least ...   \n",
       "1795  One of the best places I have ever eaten in Ch...   \n",
       "1796  Local spot for amazing sushi plating with a de...   \n",
       "1797  *GLUTEN FREE/ ALLERGY REVIEW * We were informe...   \n",
       "1798  I've ordered from this place twice and every t...   \n",
       "\n",
       "                                   no stop words review  \n",
       "0     This brand-new Hayden Hall location 10Q Chicke...  \n",
       "1     The food surprisingly good within Second City....  \n",
       "2     Great way start day tasty breakfast sandwich W...  \n",
       "3     This place really really posh. It's situated r...  \n",
       "4     The eggrolls place delicious. They made order ...  \n",
       "...                                                 ...  \n",
       "1794  Zeus straight . Gotta hit least week gyro plat...  \n",
       "1795  One best places I ever eaten Chicago! From app...  \n",
       "1796  Local spot amazing sushi plating delicious sel...  \n",
       "1797  *GLUTEN FREE/ ALLERGY REVIEW * We informed fry...  \n",
       "1798  I've ordered place twice every time food delic...  \n",
       "\n",
       "[1799 rows x 3 columns]"
      ]
     },
     "execution_count": 42,
     "metadata": {},
     "output_type": "execute_result"
    }
   ],
   "source": [
    "df"
   ]
  },
  {
   "cell_type": "code",
   "execution_count": 43,
   "metadata": {},
   "outputs": [
    {
     "data": {
      "text/plain": [
       "0       This brand-new Hayden Hall location 10Q Chicke...\n",
       "1       The food surprisingly good within Second City....\n",
       "2       Great way start day tasty breakfast sandwich W...\n",
       "3       This place really really posh. It's situated r...\n",
       "4       The eggrolls place delicious. They made order ...\n",
       "                              ...                        \n",
       "1794    Zeus straight . Gotta hit least week gyro plat...\n",
       "1795    One best places I ever eaten Chicago! From app...\n",
       "1796    Local spot amazing sushi plating delicious sel...\n",
       "1797    *GLUTEN FREE/ ALLERGY REVIEW * We informed fry...\n",
       "1798    I've ordered place twice every time food delic...\n",
       "Name: no stop words review, Length: 1799, dtype: object"
      ]
     },
     "execution_count": 43,
     "metadata": {},
     "output_type": "execute_result"
    }
   ],
   "source": [
    "df['no stop words review']"
   ]
  },
  {
   "cell_type": "code",
   "execution_count": null,
   "metadata": {},
   "outputs": [],
   "source": []
  },
  {
   "cell_type": "code",
   "execution_count": 44,
   "metadata": {},
   "outputs": [
    {
     "data": {
      "text/plain": [
       "(1799, 3)"
      ]
     },
     "execution_count": 44,
     "metadata": {},
     "output_type": "execute_result"
    }
   ],
   "source": [
    "df.shape"
   ]
  },
  {
   "cell_type": "code",
   "execution_count": 20,
   "metadata": {},
   "outputs": [],
   "source": [
    "########Calculating TF-IDF"
   ]
  },
  {
   "cell_type": "code",
   "execution_count": 26,
   "metadata": {},
   "outputs": [
    {
     "name": "stdout",
     "output_type": "stream",
     "text": [
      "(1799, 36884)\n"
     ]
    }
   ],
   "source": [
    "#Getting TF value\n",
    "from sklearn.feature_extraction.text import TfidfVectorizer\n",
    "#TF-IDF vecotrizer object - removes all stop words\n",
    "tfidf = TfidfVectorizer(stop_words = 'english')\n",
    "\n",
    "#Construct the tfidf matrix by fitting and transforming the data to count/calculate the TF score AND IDF score\n",
    "tfidf_matrix = tfidf.fit_transform(df['review']) ##Calcualtes the Tfidf values for us\n",
    "\n",
    "print(tfidf_matrix.shape)\n",
    "##From the terms, you have the vocabulary list of all unique words for all restaurants\n",
    "##Types of similarity matrixes = manhattan euclidean, Pearson, cosine similairty score\n"
   ]
  },
  {
   "cell_type": "code",
   "execution_count": null,
   "metadata": {},
   "outputs": [],
   "source": []
  },
  {
   "cell_type": "code",
   "execution_count": 57,
   "metadata": {},
   "outputs": [
    {
     "ename": "KeyError",
     "evalue": "\"['review'] not found in axis\"",
     "output_type": "error",
     "traceback": [
      "\u001b[1;31m---------------------------------------------------------------------------\u001b[0m",
      "\u001b[1;31mKeyError\u001b[0m                                  Traceback (most recent call last)",
      "\u001b[1;32m<ipython-input-57-29a0564a19d4>\u001b[0m in \u001b[0;36m<module>\u001b[1;34m\u001b[0m\n\u001b[0;32m      1\u001b[0m \u001b[1;31m###########Final cleaned dataframe\u001b[0m\u001b[1;33m\u001b[0m\u001b[1;33m\u001b[0m\u001b[1;33m\u001b[0m\u001b[0m\n\u001b[1;32m----> 2\u001b[1;33m \u001b[0mdf\u001b[0m \u001b[1;33m=\u001b[0m \u001b[0mdf\u001b[0m\u001b[1;33m.\u001b[0m\u001b[0mdrop\u001b[0m\u001b[1;33m(\u001b[0m\u001b[0mcolumns\u001b[0m \u001b[1;33m=\u001b[0m \u001b[1;33m[\u001b[0m\u001b[1;34m'review'\u001b[0m\u001b[1;33m]\u001b[0m\u001b[1;33m,\u001b[0m \u001b[0maxis\u001b[0m \u001b[1;33m=\u001b[0m \u001b[1;36m1\u001b[0m\u001b[1;33m)\u001b[0m\u001b[1;33m\u001b[0m\u001b[1;33m\u001b[0m\u001b[0m\n\u001b[0m",
      "\u001b[1;32m~\\Documents\\anaconda\\lib\\site-packages\\pandas\\core\\frame.py\u001b[0m in \u001b[0;36mdrop\u001b[1;34m(self, labels, axis, index, columns, level, inplace, errors)\u001b[0m\n\u001b[0;32m   3995\u001b[0m             \u001b[0mlevel\u001b[0m\u001b[1;33m=\u001b[0m\u001b[0mlevel\u001b[0m\u001b[1;33m,\u001b[0m\u001b[1;33m\u001b[0m\u001b[1;33m\u001b[0m\u001b[0m\n\u001b[0;32m   3996\u001b[0m             \u001b[0minplace\u001b[0m\u001b[1;33m=\u001b[0m\u001b[0minplace\u001b[0m\u001b[1;33m,\u001b[0m\u001b[1;33m\u001b[0m\u001b[1;33m\u001b[0m\u001b[0m\n\u001b[1;32m-> 3997\u001b[1;33m             \u001b[0merrors\u001b[0m\u001b[1;33m=\u001b[0m\u001b[0merrors\u001b[0m\u001b[1;33m,\u001b[0m\u001b[1;33m\u001b[0m\u001b[1;33m\u001b[0m\u001b[0m\n\u001b[0m\u001b[0;32m   3998\u001b[0m         )\n\u001b[0;32m   3999\u001b[0m \u001b[1;33m\u001b[0m\u001b[0m\n",
      "\u001b[1;32m~\\Documents\\anaconda\\lib\\site-packages\\pandas\\core\\generic.py\u001b[0m in \u001b[0;36mdrop\u001b[1;34m(self, labels, axis, index, columns, level, inplace, errors)\u001b[0m\n\u001b[0;32m   3934\u001b[0m         \u001b[1;32mfor\u001b[0m \u001b[0maxis\u001b[0m\u001b[1;33m,\u001b[0m \u001b[0mlabels\u001b[0m \u001b[1;32min\u001b[0m \u001b[0maxes\u001b[0m\u001b[1;33m.\u001b[0m\u001b[0mitems\u001b[0m\u001b[1;33m(\u001b[0m\u001b[1;33m)\u001b[0m\u001b[1;33m:\u001b[0m\u001b[1;33m\u001b[0m\u001b[1;33m\u001b[0m\u001b[0m\n\u001b[0;32m   3935\u001b[0m             \u001b[1;32mif\u001b[0m \u001b[0mlabels\u001b[0m \u001b[1;32mis\u001b[0m \u001b[1;32mnot\u001b[0m \u001b[1;32mNone\u001b[0m\u001b[1;33m:\u001b[0m\u001b[1;33m\u001b[0m\u001b[1;33m\u001b[0m\u001b[0m\n\u001b[1;32m-> 3936\u001b[1;33m                 \u001b[0mobj\u001b[0m \u001b[1;33m=\u001b[0m \u001b[0mobj\u001b[0m\u001b[1;33m.\u001b[0m\u001b[0m_drop_axis\u001b[0m\u001b[1;33m(\u001b[0m\u001b[0mlabels\u001b[0m\u001b[1;33m,\u001b[0m \u001b[0maxis\u001b[0m\u001b[1;33m,\u001b[0m \u001b[0mlevel\u001b[0m\u001b[1;33m=\u001b[0m\u001b[0mlevel\u001b[0m\u001b[1;33m,\u001b[0m \u001b[0merrors\u001b[0m\u001b[1;33m=\u001b[0m\u001b[0merrors\u001b[0m\u001b[1;33m)\u001b[0m\u001b[1;33m\u001b[0m\u001b[1;33m\u001b[0m\u001b[0m\n\u001b[0m\u001b[0;32m   3937\u001b[0m \u001b[1;33m\u001b[0m\u001b[0m\n\u001b[0;32m   3938\u001b[0m         \u001b[1;32mif\u001b[0m \u001b[0minplace\u001b[0m\u001b[1;33m:\u001b[0m\u001b[1;33m\u001b[0m\u001b[1;33m\u001b[0m\u001b[0m\n",
      "\u001b[1;32m~\\Documents\\anaconda\\lib\\site-packages\\pandas\\core\\generic.py\u001b[0m in \u001b[0;36m_drop_axis\u001b[1;34m(self, labels, axis, level, errors)\u001b[0m\n\u001b[0;32m   3968\u001b[0m                 \u001b[0mnew_axis\u001b[0m \u001b[1;33m=\u001b[0m \u001b[0maxis\u001b[0m\u001b[1;33m.\u001b[0m\u001b[0mdrop\u001b[0m\u001b[1;33m(\u001b[0m\u001b[0mlabels\u001b[0m\u001b[1;33m,\u001b[0m \u001b[0mlevel\u001b[0m\u001b[1;33m=\u001b[0m\u001b[0mlevel\u001b[0m\u001b[1;33m,\u001b[0m \u001b[0merrors\u001b[0m\u001b[1;33m=\u001b[0m\u001b[0merrors\u001b[0m\u001b[1;33m)\u001b[0m\u001b[1;33m\u001b[0m\u001b[1;33m\u001b[0m\u001b[0m\n\u001b[0;32m   3969\u001b[0m             \u001b[1;32melse\u001b[0m\u001b[1;33m:\u001b[0m\u001b[1;33m\u001b[0m\u001b[1;33m\u001b[0m\u001b[0m\n\u001b[1;32m-> 3970\u001b[1;33m                 \u001b[0mnew_axis\u001b[0m \u001b[1;33m=\u001b[0m \u001b[0maxis\u001b[0m\u001b[1;33m.\u001b[0m\u001b[0mdrop\u001b[0m\u001b[1;33m(\u001b[0m\u001b[0mlabels\u001b[0m\u001b[1;33m,\u001b[0m \u001b[0merrors\u001b[0m\u001b[1;33m=\u001b[0m\u001b[0merrors\u001b[0m\u001b[1;33m)\u001b[0m\u001b[1;33m\u001b[0m\u001b[1;33m\u001b[0m\u001b[0m\n\u001b[0m\u001b[0;32m   3971\u001b[0m             \u001b[0mresult\u001b[0m \u001b[1;33m=\u001b[0m \u001b[0mself\u001b[0m\u001b[1;33m.\u001b[0m\u001b[0mreindex\u001b[0m\u001b[1;33m(\u001b[0m\u001b[1;33m**\u001b[0m\u001b[1;33m{\u001b[0m\u001b[0maxis_name\u001b[0m\u001b[1;33m:\u001b[0m \u001b[0mnew_axis\u001b[0m\u001b[1;33m}\u001b[0m\u001b[1;33m)\u001b[0m\u001b[1;33m\u001b[0m\u001b[1;33m\u001b[0m\u001b[0m\n\u001b[0;32m   3972\u001b[0m \u001b[1;33m\u001b[0m\u001b[0m\n",
      "\u001b[1;32m~\\Documents\\anaconda\\lib\\site-packages\\pandas\\core\\indexes\\base.py\u001b[0m in \u001b[0;36mdrop\u001b[1;34m(self, labels, errors)\u001b[0m\n\u001b[0;32m   5016\u001b[0m         \u001b[1;32mif\u001b[0m \u001b[0mmask\u001b[0m\u001b[1;33m.\u001b[0m\u001b[0many\u001b[0m\u001b[1;33m(\u001b[0m\u001b[1;33m)\u001b[0m\u001b[1;33m:\u001b[0m\u001b[1;33m\u001b[0m\u001b[1;33m\u001b[0m\u001b[0m\n\u001b[0;32m   5017\u001b[0m             \u001b[1;32mif\u001b[0m \u001b[0merrors\u001b[0m \u001b[1;33m!=\u001b[0m \u001b[1;34m\"ignore\"\u001b[0m\u001b[1;33m:\u001b[0m\u001b[1;33m\u001b[0m\u001b[1;33m\u001b[0m\u001b[0m\n\u001b[1;32m-> 5018\u001b[1;33m                 \u001b[1;32mraise\u001b[0m \u001b[0mKeyError\u001b[0m\u001b[1;33m(\u001b[0m\u001b[1;34mf\"{labels[mask]} not found in axis\"\u001b[0m\u001b[1;33m)\u001b[0m\u001b[1;33m\u001b[0m\u001b[1;33m\u001b[0m\u001b[0m\n\u001b[0m\u001b[0;32m   5019\u001b[0m             \u001b[0mindexer\u001b[0m \u001b[1;33m=\u001b[0m \u001b[0mindexer\u001b[0m\u001b[1;33m[\u001b[0m\u001b[1;33m~\u001b[0m\u001b[0mmask\u001b[0m\u001b[1;33m]\u001b[0m\u001b[1;33m\u001b[0m\u001b[1;33m\u001b[0m\u001b[0m\n\u001b[0;32m   5020\u001b[0m         \u001b[1;32mreturn\u001b[0m \u001b[0mself\u001b[0m\u001b[1;33m.\u001b[0m\u001b[0mdelete\u001b[0m\u001b[1;33m(\u001b[0m\u001b[0mindexer\u001b[0m\u001b[1;33m)\u001b[0m\u001b[1;33m\u001b[0m\u001b[1;33m\u001b[0m\u001b[0m\n",
      "\u001b[1;31mKeyError\u001b[0m: \"['review'] not found in axis\""
     ]
    }
   ],
   "source": [
    "###########Final cleaned dataframe\n",
    "df = df.drop(columns = ['review'], axis = 1)\n"
   ]
  },
  {
   "cell_type": "code",
   "execution_count": 58,
   "metadata": {},
   "outputs": [],
   "source": [
    "df.to_csv(\"context_recommender_final1.csv\")"
   ]
  },
  {
   "cell_type": "code",
   "execution_count": 49,
   "metadata": {},
   "outputs": [
    {
     "data": {
      "text/html": [
       "<div>\n",
       "<style scoped>\n",
       "    .dataframe tbody tr th:only-of-type {\n",
       "        vertical-align: middle;\n",
       "    }\n",
       "\n",
       "    .dataframe tbody tr th {\n",
       "        vertical-align: top;\n",
       "    }\n",
       "\n",
       "    .dataframe thead th {\n",
       "        text-align: right;\n",
       "    }\n",
       "</style>\n",
       "<table border=\"1\" class=\"dataframe\">\n",
       "  <thead>\n",
       "    <tr style=\"text-align: right;\">\n",
       "      <th></th>\n",
       "      <th>restaurant name</th>\n",
       "      <th>no stop words review</th>\n",
       "    </tr>\n",
       "  </thead>\n",
       "  <tbody>\n",
       "    <tr>\n",
       "      <th>0</th>\n",
       "      <td>10q-chicken-chicago</td>\n",
       "      <td>This brand-new Hayden Hall location 10Q Chicke...</td>\n",
       "    </tr>\n",
       "    <tr>\n",
       "      <th>1</th>\n",
       "      <td>1959-kitchen-and-bar-chicago</td>\n",
       "      <td>The food surprisingly good within Second City....</td>\n",
       "    </tr>\n",
       "    <tr>\n",
       "      <th>2</th>\n",
       "      <td>2121-pantry-chicago</td>\n",
       "      <td>Great way start day tasty breakfast sandwich W...</td>\n",
       "    </tr>\n",
       "    <tr>\n",
       "      <th>3</th>\n",
       "      <td>3-arts-club-café-chicago-9</td>\n",
       "      <td>This place really really posh. It's situated r...</td>\n",
       "    </tr>\n",
       "    <tr>\n",
       "      <th>4</th>\n",
       "      <td>3-kings-jerk-chicago</td>\n",
       "      <td>The eggrolls place delicious. They made order ...</td>\n",
       "    </tr>\n",
       "    <tr>\n",
       "      <th>...</th>\n",
       "      <td>...</td>\n",
       "      <td>...</td>\n",
       "    </tr>\n",
       "    <tr>\n",
       "      <th>1794</th>\n",
       "      <td>zeus-restaurant-chicago-2</td>\n",
       "      <td>Zeus straight . Gotta hit least week gyro plat...</td>\n",
       "    </tr>\n",
       "    <tr>\n",
       "      <th>1795</th>\n",
       "      <td>zizis-cafe-chicago</td>\n",
       "      <td>One best places I ever eaten Chicago! From app...</td>\n",
       "    </tr>\n",
       "    <tr>\n",
       "      <th>1796</th>\n",
       "      <td>zoku-sushi-chicago-3</td>\n",
       "      <td>Local spot amazing sushi plating delicious sel...</td>\n",
       "    </tr>\n",
       "    <tr>\n",
       "      <th>1797</th>\n",
       "      <td>zombie-taco-chicago</td>\n",
       "      <td>*GLUTEN FREE/ ALLERGY REVIEW * We informed fry...</td>\n",
       "    </tr>\n",
       "    <tr>\n",
       "      <th>1798</th>\n",
       "      <td>zoup-chicago</td>\n",
       "      <td>I've ordered place twice every time food delic...</td>\n",
       "    </tr>\n",
       "  </tbody>\n",
       "</table>\n",
       "<p>1799 rows × 2 columns</p>\n",
       "</div>"
      ],
      "text/plain": [
       "                   restaurant name  \\\n",
       "0              10q-chicken-chicago   \n",
       "1     1959-kitchen-and-bar-chicago   \n",
       "2              2121-pantry-chicago   \n",
       "3       3-arts-club-café-chicago-9   \n",
       "4             3-kings-jerk-chicago   \n",
       "...                            ...   \n",
       "1794     zeus-restaurant-chicago-2   \n",
       "1795            zizis-cafe-chicago   \n",
       "1796          zoku-sushi-chicago-3   \n",
       "1797           zombie-taco-chicago   \n",
       "1798                  zoup-chicago   \n",
       "\n",
       "                                   no stop words review  \n",
       "0     This brand-new Hayden Hall location 10Q Chicke...  \n",
       "1     The food surprisingly good within Second City....  \n",
       "2     Great way start day tasty breakfast sandwich W...  \n",
       "3     This place really really posh. It's situated r...  \n",
       "4     The eggrolls place delicious. They made order ...  \n",
       "...                                                 ...  \n",
       "1794  Zeus straight . Gotta hit least week gyro plat...  \n",
       "1795  One best places I ever eaten Chicago! From app...  \n",
       "1796  Local spot amazing sushi plating delicious sel...  \n",
       "1797  *GLUTEN FREE/ ALLERGY REVIEW * We informed fry...  \n",
       "1798  I've ordered place twice every time food delic...  \n",
       "\n",
       "[1799 rows x 2 columns]"
      ]
     },
     "execution_count": 49,
     "metadata": {},
     "output_type": "execute_result"
    }
   ],
   "source": []
  },
  {
   "cell_type": "code",
   "execution_count": 50,
   "metadata": {},
   "outputs": [
    {
     "name": "stdout",
     "output_type": "stream",
     "text": [
      "(1799, 1799)\n"
     ]
    }
   ],
   "source": [
    "#Calculating Cosine similarity score through inear_kernal instead of cosine_similarities() function since it is faster\n",
    "\n",
    "from sklearn.metrics.pairwise import linear_kernel\n",
    "\n",
    "#Compute cosine similarity using linear_kernal (which multiples x^Ty)\n",
    "cosine_sim = linear_kernel(tfidf_matrix, tfidf_matrix) ####ERROR: Memory error, how to fix?\n",
    "\n",
    "print(cosine_sim.shape)"
   ]
  },
  {
   "cell_type": "code",
   "execution_count": 51,
   "metadata": {},
   "outputs": [
    {
     "data": {
      "text/plain": [
       "array([1.        , 0.06427549, 0.03142232, ..., 0.05739628, 0.07021599,\n",
       "       0.07351227])"
      ]
     },
     "execution_count": 51,
     "metadata": {},
     "output_type": "execute_result"
    }
   ],
   "source": [
    "cosine_sim[0] #This gives us the vlaues of this restaurant compared against all others"
   ]
  },
  {
   "cell_type": "code",
   "execution_count": 52,
   "metadata": {},
   "outputs": [],
   "source": [
    "##Construct a reverse map of indices and movie titles\n",
    "indices = pd.Series(df.index, index = df['restaurant name']).drop_duplicates()"
   ]
  },
  {
   "cell_type": "code",
   "execution_count": 53,
   "metadata": {},
   "outputs": [],
   "source": [
    "##Construct that will take in the restaurant name and output the most ismilar movies;:\n",
    "\n",
    "def get_recommendations(name, cosine_sim = cosine_sim):\n",
    "    #Get the index of the movei that matches the title\n",
    "    idx = indices[name]\n",
    "    \n",
    "    #Get the pairwise similarity score of all movie with that movie\n",
    "    sim_scores = list(enumerate(cosine_sim[idx]))\n",
    "    \n",
    "    #Sort the moveis based on the simialrity cores\n",
    "    sim_scores = sorted(sim_scores, key = lambda x: x[1], reverse = True)\n",
    "    \n",
    "    #Get the scores of the 10 most similar movies\n",
    "    sim_scores = sim_scores[1:11]\n",
    "    \n",
    "    #get the movie indices \n",
    "    restaurant_indices = [i[0] for i in sim_scores]\n",
    "    \n",
    "    #Return the top 10 most similar movies\n",
    "    return df['restaurant name'].iloc[restaurant_indices]"
   ]
  },
  {
   "cell_type": "code",
   "execution_count": 54,
   "metadata": {},
   "outputs": [
    {
     "data": {
      "text/plain": [
       "1754               wildberry-pancakes-and-cafe-chicago-2\n",
       "444                                    eggs-cafe-chicago\n",
       "679              honey-berry-pancakes-and-cafe-chicago-5\n",
       "1785                             yolk-south-loop-chicago\n",
       "1134                      original-pancake-house-chicago\n",
       "356     cozy-corner-restaurant-and-pancake-house-chicago\n",
       "487                            eppels-restaurant-chicago\n",
       "1103                          nookies-old-town-chicago-2\n",
       "1786                        yolk-streeterville-chicago-2\n",
       "1450                              stray-hen-cafe-chicago\n",
       "Name: restaurant name, dtype: object"
      ]
     },
     "execution_count": 54,
     "metadata": {},
     "output_type": "execute_result"
    }
   ],
   "source": [
    "get_recommendations('wildberry-pancakes-and-cafe-chicago-4')"
   ]
  },
  {
   "cell_type": "code",
   "execution_count": null,
   "metadata": {},
   "outputs": [],
   "source": [
    "###Next steps, try different similarity scores - ie manhattan euclidean, Pearson"
   ]
  },
  {
   "cell_type": "code",
   "execution_count": 33,
   "metadata": {},
   "outputs": [
    {
     "data": {
      "text/plain": [
       "array(['10q-chicken-chicago', '1959-kitchen-and-bar-chicago',\n",
       "       '2121-pantry-chicago', ..., 'zoku-sushi-chicago-3',\n",
       "       'zombie-taco-chicago', 'zoup-chicago'], dtype=object)"
      ]
     },
     "execution_count": 33,
     "metadata": {},
     "output_type": "execute_result"
    }
   ],
   "source": [
    "df['restaurant name'].unique()"
   ]
  },
  {
   "cell_type": "code",
   "execution_count": 34,
   "metadata": {},
   "outputs": [
    {
     "data": {
      "text/plain": [
       "0                10q-chicken-chicago\n",
       "1       1959-kitchen-and-bar-chicago\n",
       "2                2121-pantry-chicago\n",
       "3         3-arts-club-café-chicago-9\n",
       "4               3-kings-jerk-chicago\n",
       "                    ...             \n",
       "1794       zeus-restaurant-chicago-2\n",
       "1795              zizis-cafe-chicago\n",
       "1796            zoku-sushi-chicago-3\n",
       "1797             zombie-taco-chicago\n",
       "1798                    zoup-chicago\n",
       "Name: restaurant name, Length: 1799, dtype: object"
      ]
     },
     "execution_count": 34,
     "metadata": {},
     "output_type": "execute_result"
    }
   ],
   "source": []
  },
  {
   "cell_type": "code",
   "execution_count": null,
   "metadata": {},
   "outputs": [],
   "source": [
    "df[]"
   ]
  },
  {
   "cell_type": "code",
   "execution_count": null,
   "metadata": {},
   "outputs": [],
   "source": []
  }
 ],
 "metadata": {
  "kernelspec": {
   "display_name": "Python 3",
   "language": "python",
   "name": "python3"
  },
  "language_info": {
   "codemirror_mode": {
    "name": "ipython",
    "version": 3
   },
   "file_extension": ".py",
   "mimetype": "text/x-python",
   "name": "python",
   "nbconvert_exporter": "python",
   "pygments_lexer": "ipython3",
   "version": "3.7.6"
  }
 },
 "nbformat": 4,
 "nbformat_minor": 4
}
