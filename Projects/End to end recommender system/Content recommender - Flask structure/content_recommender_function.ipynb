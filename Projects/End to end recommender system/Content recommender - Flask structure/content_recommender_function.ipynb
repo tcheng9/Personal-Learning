{
 "cells": [
  {
   "cell_type": "code",
   "execution_count": 47,
   "metadata": {},
   "outputs": [
    {
     "name": "stdout",
     "output_type": "stream",
     "text": [
      "(1799, 36884)\n",
      "(1799, 1799)\n"
     ]
    }
   ],
   "source": [
    "import pandas as pd\n",
    "import numpy as np\n",
    "import os\n",
    "import nltk\n",
    "from nltk.corpus import stopwords\n",
    "from nltk.tokenize import word_tokenize\n",
    "\n",
    "df = pd.read_csv(\"C:\\\\Users\\\\tchen\\\\Documents\\\\Data science\\\\webapp_content_recommender\\\\content_recommender_final1.csv\")\n",
    "\n",
    "df = df.drop(columns = ['Unnamed: 0'], axis = 1)\n",
    "\n",
    "#Getting TF value\n",
    "from sklearn.feature_extraction.text import TfidfVectorizer\n",
    "#TF-IDF vecotrizer object - removes all stop words\n",
    "tfidf = TfidfVectorizer(stop_words = 'english')\n",
    "\n",
    "#Construct the tfidf matrix by fitting and transforming the data to count/calculate the TF score AND IDF score\n",
    "tfidf_matrix = tfidf.fit_transform(df['no stop words review']) ##Calcualtes the Tfidf values for us\n",
    "\n",
    "print(tfidf_matrix.shape)\n",
    "##From the terms, you have the vocabulary list of all unique words for all restaurants\n",
    "##Types of similarity matrixes = manhattan euclidean, Pearson, cosine similairty score\n",
    "\n",
    "#Calculating Cosine similarity score through inear_kernal instead of cosine_similarities() function since it is faster\n",
    "\n",
    "from sklearn.metrics.pairwise import linear_kernel\n",
    "\n",
    "#Compute cosine similarity using linear_kernal (which multiples x^Ty)\n",
    "cosine_sim = linear_kernel(tfidf_matrix, tfidf_matrix) ####ERROR: Memory error, how to fix?\n",
    "\n",
    "print(cosine_sim.shape)\n",
    "\n",
    "\n",
    "##Construct a reverse map of indices and movie titles\n",
    "indices = pd.Series(df.index, index = df['restaurant name']).drop_duplicates()\n",
    "\n",
    "##Construct that will take in the restaurant name and output the most ismilar movies;:\n",
    "\n",
    "def get_recommendations(name, cosine_sim = cosine_sim):\n",
    "    #Get the index of the movei that matches the title\n",
    "    idx = indices[name]\n",
    "    \n",
    "    #Get the pairwise similarity score of all movie with that movie\n",
    "    sim_scores = list(enumerate(cosine_sim[idx]))\n",
    "    \n",
    "    #Sort the moveis based on the simialrity cores\n",
    "    sim_scores = sorted(sim_scores, key = lambda x: x[1], reverse = True)\n",
    "    \n",
    "    #Get the scores of the 10 most similar movies\n",
    "    sim_scores = sim_scores[1:11]\n",
    "    \n",
    "    #get the movie indices \n",
    "    restaurant_indices = [i[0] for i in sim_scores]\n",
    "    \n",
    "    #Return the top 10 most similar movies\n",
    "    df_return = df['restaurant name'].iloc[restaurant_indices]\n",
    "    return df_return.to_frame()\n",
    "\n"
   ]
  },
  {
   "cell_type": "code",
   "execution_count": 50,
   "metadata": {},
   "outputs": [
    {
     "data": {
      "text/html": [
       "<div>\n",
       "<style scoped>\n",
       "    .dataframe tbody tr th:only-of-type {\n",
       "        vertical-align: middle;\n",
       "    }\n",
       "\n",
       "    .dataframe tbody tr th {\n",
       "        vertical-align: top;\n",
       "    }\n",
       "\n",
       "    .dataframe thead th {\n",
       "        text-align: right;\n",
       "    }\n",
       "</style>\n",
       "<table border=\"1\" class=\"dataframe\">\n",
       "  <thead>\n",
       "    <tr style=\"text-align: right;\">\n",
       "      <th></th>\n",
       "      <th>restaurant name</th>\n",
       "    </tr>\n",
       "  </thead>\n",
       "  <tbody>\n",
       "    <tr>\n",
       "      <th>1501</th>\n",
       "      <td>sweetwater-tavern-and-grille-chicago</td>\n",
       "    </tr>\n",
       "    <tr>\n",
       "      <th>1414</th>\n",
       "      <td>sociale-chicago-chicago</td>\n",
       "    </tr>\n",
       "    <tr>\n",
       "      <th>521</th>\n",
       "      <td>first-draft-chicago</td>\n",
       "    </tr>\n",
       "    <tr>\n",
       "      <th>261</th>\n",
       "      <td>centennial-crafted-beer-and-eatery-chicago</td>\n",
       "    </tr>\n",
       "    <tr>\n",
       "      <th>938</th>\n",
       "      <td>luxbar-chicago</td>\n",
       "    </tr>\n",
       "    <tr>\n",
       "      <th>173</th>\n",
       "      <td>bourbon-on-division-chicago</td>\n",
       "    </tr>\n",
       "    <tr>\n",
       "      <th>711</th>\n",
       "      <td>innjoy-logan-square-chicago</td>\n",
       "    </tr>\n",
       "    <tr>\n",
       "      <th>1421</th>\n",
       "      <td>south-branch-tavern-grille-chicago-2</td>\n",
       "    </tr>\n",
       "    <tr>\n",
       "      <th>85</th>\n",
       "      <td>ballpark-pub-chicago</td>\n",
       "    </tr>\n",
       "    <tr>\n",
       "      <th>277</th>\n",
       "      <td>cherry-circle-room-chicago</td>\n",
       "    </tr>\n",
       "  </tbody>\n",
       "</table>\n",
       "</div>"
      ],
      "text/plain": [
       "                                 restaurant name\n",
       "1501        sweetwater-tavern-and-grille-chicago\n",
       "1414                     sociale-chicago-chicago\n",
       "521                          first-draft-chicago\n",
       "261   centennial-crafted-beer-and-eatery-chicago\n",
       "938                               luxbar-chicago\n",
       "173                  bourbon-on-division-chicago\n",
       "711                  innjoy-logan-square-chicago\n",
       "1421        south-branch-tavern-grille-chicago-2\n",
       "85                          ballpark-pub-chicago\n",
       "277                   cherry-circle-room-chicago"
      ]
     },
     "execution_count": 50,
     "metadata": {},
     "output_type": "execute_result"
    }
   ],
   "source": [
    "get_recommendations('1959-kitchen-and-bar-chicago')"
   ]
  },
  {
   "cell_type": "code",
   "execution_count": 42,
   "metadata": {},
   "outputs": [
    {
     "data": {
      "text/plain": [
       "'<table border=\"1\" class=\"dataframe\">\\n  <thead>\\n    <tr style=\"text-align: right;\">\\n      <th></th>\\n      <th>restaurant name</th>\\n    </tr>\\n  </thead>\\n  <tbody>\\n    <tr>\\n      <th>1501</th>\\n      <td>sweetwater-tavern-and-grille-chicago</td>\\n    </tr>\\n    <tr>\\n      <th>1414</th>\\n      <td>sociale-chicago-chicago</td>\\n    </tr>\\n    <tr>\\n      <th>521</th>\\n      <td>first-draft-chicago</td>\\n    </tr>\\n    <tr>\\n      <th>261</th>\\n      <td>centennial-crafted-beer-and-eatery-chicago</td>\\n    </tr>\\n    <tr>\\n      <th>938</th>\\n      <td>luxbar-chicago</td>\\n    </tr>\\n    <tr>\\n      <th>173</th>\\n      <td>bourbon-on-division-chicago</td>\\n    </tr>\\n    <tr>\\n      <th>711</th>\\n      <td>innjoy-logan-square-chicago</td>\\n    </tr>\\n    <tr>\\n      <th>1421</th>\\n      <td>south-branch-tavern-grille-chicago-2</td>\\n    </tr>\\n    <tr>\\n      <th>85</th>\\n      <td>ballpark-pub-chicago</td>\\n    </tr>\\n    <tr>\\n      <th>277</th>\\n      <td>cherry-circle-room-chicago</td>\\n    </tr>\\n  </tbody>\\n</table>'"
      ]
     },
     "execution_count": 42,
     "metadata": {},
     "output_type": "execute_result"
    }
   ],
   "source": [
    "df_2.to_html()"
   ]
  },
  {
   "cell_type": "code",
   "execution_count": 33,
   "metadata": {},
   "outputs": [
    {
     "data": {
      "text/html": [
       "<div>\n",
       "<style scoped>\n",
       "    .dataframe tbody tr th:only-of-type {\n",
       "        vertical-align: middle;\n",
       "    }\n",
       "\n",
       "    .dataframe tbody tr th {\n",
       "        vertical-align: top;\n",
       "    }\n",
       "\n",
       "    .dataframe thead th {\n",
       "        text-align: right;\n",
       "    }\n",
       "</style>\n",
       "<table border=\"1\" class=\"dataframe\">\n",
       "  <thead>\n",
       "    <tr style=\"text-align: right;\">\n",
       "      <th></th>\n",
       "      <th>restaurant name</th>\n",
       "    </tr>\n",
       "  </thead>\n",
       "  <tbody>\n",
       "    <tr>\n",
       "      <th>1501</th>\n",
       "      <td>sweetwater-tavern-and-grille-chicago</td>\n",
       "    </tr>\n",
       "    <tr>\n",
       "      <th>1414</th>\n",
       "      <td>sociale-chicago-chicago</td>\n",
       "    </tr>\n",
       "    <tr>\n",
       "      <th>521</th>\n",
       "      <td>first-draft-chicago</td>\n",
       "    </tr>\n",
       "    <tr>\n",
       "      <th>261</th>\n",
       "      <td>centennial-crafted-beer-and-eatery-chicago</td>\n",
       "    </tr>\n",
       "    <tr>\n",
       "      <th>938</th>\n",
       "      <td>luxbar-chicago</td>\n",
       "    </tr>\n",
       "    <tr>\n",
       "      <th>173</th>\n",
       "      <td>bourbon-on-division-chicago</td>\n",
       "    </tr>\n",
       "    <tr>\n",
       "      <th>711</th>\n",
       "      <td>innjoy-logan-square-chicago</td>\n",
       "    </tr>\n",
       "    <tr>\n",
       "      <th>1421</th>\n",
       "      <td>south-branch-tavern-grille-chicago-2</td>\n",
       "    </tr>\n",
       "    <tr>\n",
       "      <th>85</th>\n",
       "      <td>ballpark-pub-chicago</td>\n",
       "    </tr>\n",
       "    <tr>\n",
       "      <th>277</th>\n",
       "      <td>cherry-circle-room-chicago</td>\n",
       "    </tr>\n",
       "  </tbody>\n",
       "</table>\n",
       "</div>"
      ],
      "text/plain": [
       "                                 restaurant name\n",
       "1501        sweetwater-tavern-and-grille-chicago\n",
       "1414                     sociale-chicago-chicago\n",
       "521                          first-draft-chicago\n",
       "261   centennial-crafted-beer-and-eatery-chicago\n",
       "938                               luxbar-chicago\n",
       "173                  bourbon-on-division-chicago\n",
       "711                  innjoy-logan-square-chicago\n",
       "1421        south-branch-tavern-grille-chicago-2\n",
       "85                          ballpark-pub-chicago\n",
       "277                   cherry-circle-room-chicago"
      ]
     },
     "execution_count": 33,
     "metadata": {},
     "output_type": "execute_result"
    }
   ],
   "source": [
    "df_return.to_frame()"
   ]
  },
  {
   "cell_type": "code",
   "execution_count": 46,
   "metadata": {},
   "outputs": [
    {
     "data": {
      "text/plain": [
       "array(['restaurant name'], dtype=object)"
      ]
     },
     "execution_count": 46,
     "metadata": {},
     "output_type": "execute_result"
    }
   ],
   "source": [
    "df_return.columns.values"
   ]
  },
  {
   "cell_type": "code",
   "execution_count": null,
   "metadata": {},
   "outputs": [],
   "source": []
  }
 ],
 "metadata": {
  "kernelspec": {
   "display_name": "Python 3",
   "language": "python",
   "name": "python3"
  },
  "language_info": {
   "codemirror_mode": {
    "name": "ipython",
    "version": 3
   },
   "file_extension": ".py",
   "mimetype": "text/x-python",
   "name": "python",
   "nbconvert_exporter": "python",
   "pygments_lexer": "ipython3",
   "version": "3.7.6"
  }
 },
 "nbformat": 4,
 "nbformat_minor": 4
}
