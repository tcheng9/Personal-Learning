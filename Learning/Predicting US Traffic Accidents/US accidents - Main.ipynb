{
 "cells": [
  {
   "cell_type": "code",
   "execution_count": 1,
   "metadata": {},
   "outputs": [],
   "source": [
    "import pandas as pd\n",
    "import numpy as np\n",
    "import matplotlib.pyplot as plt\n",
    "import os\n",
    "import seaborn as sns\n"
   ]
  },
  {
   "cell_type": "code",
   "execution_count": 2,
   "metadata": {},
   "outputs": [
    {
     "data": {
      "text/plain": [
       "'C:\\\\Users\\\\tchen\\\\Documents\\\\Data science\\\\Notebooks to clean\\\\First ML project - Multiple Linear Regression - USE THIS'"
      ]
     },
     "execution_count": 2,
     "metadata": {},
     "output_type": "execute_result"
    }
   ],
   "source": [
    "os.getcwd()\n",
    "\n",
    "#pd.set_option('display.max_columns', None)\n",
    "#pd.set_option('display.max_rows', None)"
   ]
  },
  {
   "cell_type": "code",
   "execution_count": 3,
   "metadata": {},
   "outputs": [],
   "source": [
    "#Linux\n",
    "#df = pd.read_csv('/home/tommy/Documents/Data Science/First ML project/US accidents data set/US_Accidents_June20.csv')\n",
    "\n",
    "#Windows 10\n",
    "df = pd.read_csv('C:\\\\Users\\\\tchen\\\\Documents\\\\Data science\\\\Notebooks\\\\Predicting US Traffic Accidents\\\\US accidents data set\\\\US_Accidents_June20.csv')\n",
    "\n"
   ]
  },
  {
   "cell_type": "code",
   "execution_count": 4,
   "metadata": {},
   "outputs": [
    {
     "data": {
      "text/html": [
       "<div>\n",
       "<style scoped>\n",
       "    .dataframe tbody tr th:only-of-type {\n",
       "        vertical-align: middle;\n",
       "    }\n",
       "\n",
       "    .dataframe tbody tr th {\n",
       "        vertical-align: top;\n",
       "    }\n",
       "\n",
       "    .dataframe thead th {\n",
       "        text-align: right;\n",
       "    }\n",
       "</style>\n",
       "<table border=\"1\" class=\"dataframe\">\n",
       "  <thead>\n",
       "    <tr style=\"text-align: right;\">\n",
       "      <th></th>\n",
       "      <th>ID</th>\n",
       "      <th>Source</th>\n",
       "      <th>TMC</th>\n",
       "      <th>Severity</th>\n",
       "      <th>Start_Time</th>\n",
       "      <th>End_Time</th>\n",
       "      <th>Start_Lat</th>\n",
       "      <th>Start_Lng</th>\n",
       "      <th>End_Lat</th>\n",
       "      <th>End_Lng</th>\n",
       "      <th>...</th>\n",
       "      <th>Roundabout</th>\n",
       "      <th>Station</th>\n",
       "      <th>Stop</th>\n",
       "      <th>Traffic_Calming</th>\n",
       "      <th>Traffic_Signal</th>\n",
       "      <th>Turning_Loop</th>\n",
       "      <th>Sunrise_Sunset</th>\n",
       "      <th>Civil_Twilight</th>\n",
       "      <th>Nautical_Twilight</th>\n",
       "      <th>Astronomical_Twilight</th>\n",
       "    </tr>\n",
       "  </thead>\n",
       "  <tbody>\n",
       "    <tr>\n",
       "      <th>0</th>\n",
       "      <td>A-1</td>\n",
       "      <td>MapQuest</td>\n",
       "      <td>201.0</td>\n",
       "      <td>3</td>\n",
       "      <td>2016-02-08 05:46:00</td>\n",
       "      <td>2016-02-08 11:00:00</td>\n",
       "      <td>39.865147</td>\n",
       "      <td>-84.058723</td>\n",
       "      <td>NaN</td>\n",
       "      <td>NaN</td>\n",
       "      <td>...</td>\n",
       "      <td>False</td>\n",
       "      <td>False</td>\n",
       "      <td>False</td>\n",
       "      <td>False</td>\n",
       "      <td>False</td>\n",
       "      <td>False</td>\n",
       "      <td>Night</td>\n",
       "      <td>Night</td>\n",
       "      <td>Night</td>\n",
       "      <td>Night</td>\n",
       "    </tr>\n",
       "    <tr>\n",
       "      <th>1</th>\n",
       "      <td>A-2</td>\n",
       "      <td>MapQuest</td>\n",
       "      <td>201.0</td>\n",
       "      <td>2</td>\n",
       "      <td>2016-02-08 06:07:59</td>\n",
       "      <td>2016-02-08 06:37:59</td>\n",
       "      <td>39.928059</td>\n",
       "      <td>-82.831184</td>\n",
       "      <td>NaN</td>\n",
       "      <td>NaN</td>\n",
       "      <td>...</td>\n",
       "      <td>False</td>\n",
       "      <td>False</td>\n",
       "      <td>False</td>\n",
       "      <td>False</td>\n",
       "      <td>False</td>\n",
       "      <td>False</td>\n",
       "      <td>Night</td>\n",
       "      <td>Night</td>\n",
       "      <td>Night</td>\n",
       "      <td>Day</td>\n",
       "    </tr>\n",
       "    <tr>\n",
       "      <th>2</th>\n",
       "      <td>A-3</td>\n",
       "      <td>MapQuest</td>\n",
       "      <td>201.0</td>\n",
       "      <td>2</td>\n",
       "      <td>2016-02-08 06:49:27</td>\n",
       "      <td>2016-02-08 07:19:27</td>\n",
       "      <td>39.063148</td>\n",
       "      <td>-84.032608</td>\n",
       "      <td>NaN</td>\n",
       "      <td>NaN</td>\n",
       "      <td>...</td>\n",
       "      <td>False</td>\n",
       "      <td>False</td>\n",
       "      <td>False</td>\n",
       "      <td>False</td>\n",
       "      <td>True</td>\n",
       "      <td>False</td>\n",
       "      <td>Night</td>\n",
       "      <td>Night</td>\n",
       "      <td>Day</td>\n",
       "      <td>Day</td>\n",
       "    </tr>\n",
       "    <tr>\n",
       "      <th>3</th>\n",
       "      <td>A-4</td>\n",
       "      <td>MapQuest</td>\n",
       "      <td>201.0</td>\n",
       "      <td>3</td>\n",
       "      <td>2016-02-08 07:23:34</td>\n",
       "      <td>2016-02-08 07:53:34</td>\n",
       "      <td>39.747753</td>\n",
       "      <td>-84.205582</td>\n",
       "      <td>NaN</td>\n",
       "      <td>NaN</td>\n",
       "      <td>...</td>\n",
       "      <td>False</td>\n",
       "      <td>False</td>\n",
       "      <td>False</td>\n",
       "      <td>False</td>\n",
       "      <td>False</td>\n",
       "      <td>False</td>\n",
       "      <td>Night</td>\n",
       "      <td>Day</td>\n",
       "      <td>Day</td>\n",
       "      <td>Day</td>\n",
       "    </tr>\n",
       "    <tr>\n",
       "      <th>4</th>\n",
       "      <td>A-5</td>\n",
       "      <td>MapQuest</td>\n",
       "      <td>201.0</td>\n",
       "      <td>2</td>\n",
       "      <td>2016-02-08 07:39:07</td>\n",
       "      <td>2016-02-08 08:09:07</td>\n",
       "      <td>39.627781</td>\n",
       "      <td>-84.188354</td>\n",
       "      <td>NaN</td>\n",
       "      <td>NaN</td>\n",
       "      <td>...</td>\n",
       "      <td>False</td>\n",
       "      <td>False</td>\n",
       "      <td>False</td>\n",
       "      <td>False</td>\n",
       "      <td>True</td>\n",
       "      <td>False</td>\n",
       "      <td>Day</td>\n",
       "      <td>Day</td>\n",
       "      <td>Day</td>\n",
       "      <td>Day</td>\n",
       "    </tr>\n",
       "  </tbody>\n",
       "</table>\n",
       "<p>5 rows × 49 columns</p>\n",
       "</div>"
      ],
      "text/plain": [
       "    ID    Source    TMC  Severity           Start_Time             End_Time  \\\n",
       "0  A-1  MapQuest  201.0         3  2016-02-08 05:46:00  2016-02-08 11:00:00   \n",
       "1  A-2  MapQuest  201.0         2  2016-02-08 06:07:59  2016-02-08 06:37:59   \n",
       "2  A-3  MapQuest  201.0         2  2016-02-08 06:49:27  2016-02-08 07:19:27   \n",
       "3  A-4  MapQuest  201.0         3  2016-02-08 07:23:34  2016-02-08 07:53:34   \n",
       "4  A-5  MapQuest  201.0         2  2016-02-08 07:39:07  2016-02-08 08:09:07   \n",
       "\n",
       "   Start_Lat  Start_Lng  End_Lat  End_Lng  ...  Roundabout Station   Stop  \\\n",
       "0  39.865147 -84.058723      NaN      NaN  ...       False   False  False   \n",
       "1  39.928059 -82.831184      NaN      NaN  ...       False   False  False   \n",
       "2  39.063148 -84.032608      NaN      NaN  ...       False   False  False   \n",
       "3  39.747753 -84.205582      NaN      NaN  ...       False   False  False   \n",
       "4  39.627781 -84.188354      NaN      NaN  ...       False   False  False   \n",
       "\n",
       "  Traffic_Calming Traffic_Signal Turning_Loop Sunrise_Sunset Civil_Twilight  \\\n",
       "0           False          False        False          Night          Night   \n",
       "1           False          False        False          Night          Night   \n",
       "2           False           True        False          Night          Night   \n",
       "3           False          False        False          Night            Day   \n",
       "4           False           True        False            Day            Day   \n",
       "\n",
       "  Nautical_Twilight Astronomical_Twilight  \n",
       "0             Night                 Night  \n",
       "1             Night                   Day  \n",
       "2               Day                   Day  \n",
       "3               Day                   Day  \n",
       "4               Day                   Day  \n",
       "\n",
       "[5 rows x 49 columns]"
      ]
     },
     "execution_count": 4,
     "metadata": {},
     "output_type": "execute_result"
    }
   ],
   "source": [
    "df.head(5)"
   ]
  },
  {
   "cell_type": "code",
   "execution_count": 5,
   "metadata": {},
   "outputs": [],
   "source": [
    "#Think about how weather conditions can impact the road\n",
    "\n",
    "\n",
    "#Columns I don't understand/want clarification about\n",
    "#TMC?\n",
    "#Severity? -> How is this judged?\n",
    "#Start time - end time? -> Based on when the report is on mapquest? ANSWER: Shows time to explain how long it impacted traffic for\n",
    "#Start lat/start lng/end lat/end long? -> Is this useful at all?\n",
    "#Distance(mi) -> stretch of road that was affected by the accident\n",
    "#Number/Street/Country/State/Zipcode/Timezone -> Place accident happend\n",
    "#Side -> R or L side of the accidentx``\n",
    "#Airport code -> Does this provide any utility?\n",
    "#Weather timestamp -> whats this mean?\n",
    "#Wind chill -> What ranges are there? What does it mean for there to be high/low wind chill\n",
    "#Humidity -> What does it mean if the humidity is high or low? What even is high or low? -> How can it impact the road?\n",
    "#Pressure -> How does air pressure (in inches???) matter?\n",
    "#Wind direction/wind speed -> Does wind direction play a role in the how accidents happen ? -> sstrong tailwind\n",
    "#Precipitation -> \n",
    "#Weather condition -> When do most accidents occur -> This hopefully will be a very useful column\n",
    "#Amenity -> Means if there is an amenity nearby -> What kindof amneity?\n",
    "#Crossing -> what kind of crossing\n",
    "#Giveway -> what is POI? What is a giveway?\n",
    "#Junction?\n",
    "#Roundabout -> I want to clarify\n",
    "#Station -> What kindof station\n",
    "#Stop? -> Stop sign?\n",
    "#Taffic calming -> Whats this?\n",
    "#Turning loop?\n",
    "#Civil/nautical/astronomical twilight?"
   ]
  },
  {
   "cell_type": "code",
   "execution_count": 6,
   "metadata": {},
   "outputs": [
    {
     "name": "stdout",
     "output_type": "stream",
     "text": [
      "<class 'pandas.core.frame.DataFrame'>\n",
      "RangeIndex: 3513740 entries, 0 to 3513739\n",
      "Data columns (total 49 columns):\n",
      " #   Column                 Dtype  \n",
      "---  ------                 -----  \n",
      " 0   ID                     object \n",
      " 1   Source                 object \n",
      " 2   TMC                    float64\n",
      " 3   Severity               int64  \n",
      " 4   Start_Time             object \n",
      " 5   End_Time               object \n",
      " 6   Start_Lat              float64\n",
      " 7   Start_Lng              float64\n",
      " 8   End_Lat                float64\n",
      " 9   End_Lng                float64\n",
      " 10  Distance(mi)           float64\n",
      " 11  Description            object \n",
      " 12  Number                 float64\n",
      " 13  Street                 object \n",
      " 14  Side                   object \n",
      " 15  City                   object \n",
      " 16  County                 object \n",
      " 17  State                  object \n",
      " 18  Zipcode                object \n",
      " 19  Country                object \n",
      " 20  Timezone               object \n",
      " 21  Airport_Code           object \n",
      " 22  Weather_Timestamp      object \n",
      " 23  Temperature(F)         float64\n",
      " 24  Wind_Chill(F)          float64\n",
      " 25  Humidity(%)            float64\n",
      " 26  Pressure(in)           float64\n",
      " 27  Visibility(mi)         float64\n",
      " 28  Wind_Direction         object \n",
      " 29  Wind_Speed(mph)        float64\n",
      " 30  Precipitation(in)      float64\n",
      " 31  Weather_Condition      object \n",
      " 32  Amenity                bool   \n",
      " 33  Bump                   bool   \n",
      " 34  Crossing               bool   \n",
      " 35  Give_Way               bool   \n",
      " 36  Junction               bool   \n",
      " 37  No_Exit                bool   \n",
      " 38  Railway                bool   \n",
      " 39  Roundabout             bool   \n",
      " 40  Station                bool   \n",
      " 41  Stop                   bool   \n",
      " 42  Traffic_Calming        bool   \n",
      " 43  Traffic_Signal         bool   \n",
      " 44  Turning_Loop           bool   \n",
      " 45  Sunrise_Sunset         object \n",
      " 46  Civil_Twilight         object \n",
      " 47  Nautical_Twilight      object \n",
      " 48  Astronomical_Twilight  object \n",
      "dtypes: bool(13), float64(14), int64(1), object(21)\n",
      "memory usage: 1008.6+ MB\n"
     ]
    }
   ],
   "source": [
    "#Are there any NAs in the data?\n",
    "df.info()\n",
    "#No the data is pretty clean\n",
    "#Therefore, no need for a data cleaning step."
   ]
  },
  {
   "cell_type": "code",
   "execution_count": 7,
   "metadata": {},
   "outputs": [
    {
     "data": {
      "text/plain": [
       "Index(['ID', 'Source', 'TMC', 'Severity', 'Start_Time', 'End_Time',\n",
       "       'Start_Lat', 'Start_Lng', 'End_Lat', 'End_Lng', 'Distance(mi)',\n",
       "       'Description', 'Number', 'Street', 'Side', 'City', 'County', 'State',\n",
       "       'Zipcode', 'Country', 'Timezone', 'Airport_Code', 'Weather_Timestamp',\n",
       "       'Temperature(F)', 'Wind_Chill(F)', 'Humidity(%)', 'Pressure(in)',\n",
       "       'Visibility(mi)', 'Wind_Direction', 'Wind_Speed(mph)',\n",
       "       'Precipitation(in)', 'Weather_Condition', 'Amenity', 'Bump', 'Crossing',\n",
       "       'Give_Way', 'Junction', 'No_Exit', 'Railway', 'Roundabout', 'Station',\n",
       "       'Stop', 'Traffic_Calming', 'Traffic_Signal', 'Turning_Loop',\n",
       "       'Sunrise_Sunset', 'Civil_Twilight', 'Nautical_Twilight',\n",
       "       'Astronomical_Twilight'],\n",
       "      dtype='object')"
      ]
     },
     "execution_count": 7,
     "metadata": {},
     "output_type": "execute_result"
    }
   ],
   "source": [
    "#What columns are in the data?\n",
    "df.columns"
   ]
  },
  {
   "cell_type": "code",
   "execution_count": 8,
   "metadata": {},
   "outputs": [],
   "source": [
    "#Splitting the data between location and conditions of accident\n",
    "df_information = df[['ID', 'Source', 'TMC', 'Severity', 'Start_Time', 'End_Time', 'Start_Lat', 'Start_Lng', 'End_Lng',\n",
    "                    'End_Lat', 'End_Lng', 'Distance(mi)', 'Zipcode', 'Country', 'Timezone', 'Airport_Code']]\n",
    "#df\n",
    "\n",
    "#Scratch this -> It'll strip a lot of info. I will drop columns based on the question I want to answer"
   ]
  },
  {
   "cell_type": "code",
   "execution_count": 9,
   "metadata": {},
   "outputs": [
    {
     "data": {
      "text/plain": [
       "<matplotlib.axes._subplots.AxesSubplot at 0x2508d0e8248>"
      ]
     },
     "execution_count": 9,
     "metadata": {},
     "output_type": "execute_result"
    },
    {
     "data": {
      "image/png": "[encoded data removed]",
      "text/plain": [
       "<Figure size 1080x720 with 2 Axes>"
      ]
     },
     "metadata": {
      "needs_background": "light"
     },
     "output_type": "display_data"
    }
   ],
   "source": [
    "#Heatmap visualization for correlations between conditions of the accidents\n",
    "df_conditions = df[['Temperature(F)', 'Wind_Chill(F)', 'Humidity(%)', 'Pressure(in)', 'Visibility(mi)',\n",
    "                   'Wind_Direction', 'Wind_Speed(mph)', 'Precipitation(in)', 'Weather_Condition',\n",
    "                   'Amenity', 'Bump', 'Crossing', 'Stop', 'Traffic_Calming', 'Traffic_Signal', 'Turning_Loop',\n",
    "                   'Sunrise_Sunset', 'Civil_Twilight', 'Nautical_Twilight']]\n",
    "corrMatrix = df_conditions.corr()\n",
    "\n",
    "plt.figure(figsize = (15,10))\n",
    "sns.heatmap(corrMatrix, annot = True, cmap = 'coolwarm')"
   ]
  },
  {
   "cell_type": "code",
   "execution_count": 10,
   "metadata": {},
   "outputs": [],
   "source": [
    "#Notes on the heatmap\n",
    "\n",
    "#Moderate-high correlations\n",
    "#Humidity + Visibility are negatively correlated\n",
    "#Traffic calming and a bump are highly correlated\n",
    "#Traffic signal and crossing are highly correlated \n",
    "#that's it. \n",
    "\n",
    "\n",
    "##Analsysis:\n",
    "#-Want the x-axis label to be more horizontal\n",
    "#Significant relationships - \n",
    "#Bump w/ Traffic_calming\n",
    "#Crossing and Traffic_signal\n",
    "#"
   ]
  },
  {
   "cell_type": "code",
   "execution_count": 11,
   "metadata": {},
   "outputs": [],
   "source": [
    "#What states/cities have the highest amount of traffic accidents?\n",
    "#I could use lat/lngs to create a US map\n",
    "#Then aggregate dots by what? Zipcode?State?County? -> Which one gives you a decent estimate of the area that's \n",
    "#not too wide (i.e whole state) and not too small (i.e street by street)\n"
   ]
  },
  {
   "cell_type": "code",
   "execution_count": 12,
   "metadata": {},
   "outputs": [],
   "source": [
    "#Question 2: Overlay a map of the US to the lat and long of these accidents\n",
    "df_lat_lng = df[['Start_Time', 'End_Time', 'Start_Lat', 'Start_Lng']]\n",
    "df_test = df[['Start_Time', 'End_Time', 'Start_Lat', 'Start_Lng']]\n",
    "#plt.clf()\n",
    "#plt.scatter(df_lat_lng['Start_Lat',], df_lat_lng['Start_Lng'])"
   ]
  },
  {
   "cell_type": "code",
   "execution_count": null,
   "metadata": {},
   "outputs": [],
   "source": []
  },
  {
   "cell_type": "code",
   "execution_count": 13,
   "metadata": {},
   "outputs": [
    {
     "data": {
      "text/plain": [
       "'\\n\\n#plt.scatter(df_lat_lng[\\'Start_Lat\\'], df_lat_lng[\\'Start_Lng\\'])\\nimport matplotlib.image as mpimg\\n\\nusa_map = mpimg.imread(\\'/home/tommy/Documents/Data Science/First ML project/USA_continental.png\\')\\ndf_lat_lng.plot(kind = \"scatter\", x = \"Start_Lat\", y = \"Start_Lng\", colorbar = True)\\n\\nplt.show()\\n\\nusa_map = mpimg.imread(\\'/home/tommy/Documents/Data Science/First ML project/USA_continental.png\\')\\nplt.figure(figsize = (15,10))\\n\\nplt.imshow(usa_map, extent=[-130, 130, 20, 90], alpha=0.5)\\nplt.plot(kind = \"scatter\", x = \"Start_Lat\", y = \"Start_Lng\", colorbar = True, data = df_lat_lng)\\nplt.show()\\n'"
      ]
     },
     "execution_count": 13,
     "metadata": {},
     "output_type": "execute_result"
    }
   ],
   "source": [
    "#Not sure if this code below is needed for the map visualization but I want to keep this until I'm sure.\n",
    "'''\n",
    "\n",
    "#plt.scatter(df_lat_lng['Start_Lat'], df_lat_lng['Start_Lng'])\n",
    "import matplotlib.image as mpimg\n",
    "\n",
    "usa_map = mpimg.imread('/home/tommy/Documents/Data Science/First ML project/USA_continental.png')\n",
    "df_lat_lng.plot(kind = \"scatter\", x = \"Start_Lat\", y = \"Start_Lng\", colorbar = True)\n",
    "\n",
    "plt.show()\n",
    "\n",
    "usa_map = mpimg.imread('/home/tommy/Documents/Data Science/First ML project/USA_continental.png')\n",
    "plt.figure(figsize = (15,10))\n",
    "\n",
    "plt.imshow(usa_map, extent=[-130, 130, 20, 90], alpha=0.5)\n",
    "plt.plot(kind = \"scatter\", x = \"Start_Lat\", y = \"Start_Lng\", colorbar = True, data = df_lat_lng)\n",
    "plt.show()\n",
    "'''"
   ]
  },
  {
   "cell_type": "code",
   "execution_count": 14,
   "metadata": {},
   "outputs": [
    {
     "ename": "ModuleNotFoundError",
     "evalue": "No module named 'cartopy'",
     "output_type": "error",
     "traceback": [
      "\u001b[1;31m---------------------------------------------------------------------------\u001b[0m",
      "\u001b[1;31mModuleNotFoundError\u001b[0m                       Traceback (most recent call last)",
      "\u001b[1;32m<ipython-input-14-e062fce6cda2>\u001b[0m in \u001b[0;36m<module>\u001b[1;34m\u001b[0m\n\u001b[1;32m----> 1\u001b[1;33m \u001b[1;32mimport\u001b[0m \u001b[0mcartopy\u001b[0m\u001b[1;33m.\u001b[0m\u001b[0mcrs\u001b[0m \u001b[1;32mas\u001b[0m \u001b[0mccrs\u001b[0m\u001b[1;33m\u001b[0m\u001b[1;33m\u001b[0m\u001b[0m\n\u001b[0m\u001b[0;32m      2\u001b[0m \u001b[1;32mimport\u001b[0m \u001b[0mcartopy\u001b[0m\u001b[1;33m.\u001b[0m\u001b[0mfeature\u001b[0m \u001b[1;32mas\u001b[0m \u001b[0mcfeat\u001b[0m\u001b[1;33m\u001b[0m\u001b[1;33m\u001b[0m\u001b[0m\n",
      "\u001b[1;31mModuleNotFoundError\u001b[0m: No module named 'cartopy'"
     ]
    }
   ],
   "source": [
    "import cartopy.crs as ccrs\n",
    "import cartopy.feature as cfeat"
   ]
  },
  {
   "cell_type": "code",
   "execution_count": null,
   "metadata": {},
   "outputs": [],
   "source": []
  },
  {
   "cell_type": "code",
   "execution_count": null,
   "metadata": {},
   "outputs": [],
   "source": []
  },
  {
   "cell_type": "code",
   "execution_count": null,
   "metadata": {},
   "outputs": [],
   "source": [
    "fig = plt.figure(figsize = (15, 15))\n",
    "\n",
    "#Features of the US map\n",
    "ax = fig.add_subplot(1,1,1,projection = ccrs.PlateCarree())\n",
    "ax.add_feature(cfeat.LAND)\n",
    "ax.add_feature(cfeat.OCEAN)\n",
    "ax.add_feature(cfeat.COASTLINE)\n",
    "ax.add_feature(cfeat.BORDERS, linestyle = '-')\n",
    "ax.add_feature(cfeat.LAKES, alpha = 0.5)\n",
    "ax.add_feature(cfeat.RIVERS)\n",
    "\n",
    "ax.set_extent((-140, -60, 20, 50))\n",
    "\n",
    "state_borders = cfeat.NaturalEarthFeature(category = 'cultural', name = 'admin_1_states_provinces_lakes', \n",
    "                                          scale = '50m', facecolor = 'none')\n",
    "\n",
    "ax.add_feature(state_borders, linestyle = 'dotted', edgecolor = 'black')\n",
    "#End of features\n",
    "\n",
    "ax.scatter(df_lat_lng['Start_Lng'], df_lat_lng['Start_Lat'], transform = ccrs.PlateCarree(), marker = '*', s = 1, c= 'r' )\n",
    "fig"
   ]
  },
  {
   "cell_type": "code",
   "execution_count": null,
   "metadata": {
    "scrolled": true
   },
   "outputs": [],
   "source": [
    "\n",
    "#Summary: This plot is okay for describing places where a lot of traffic accidents happen. There seems to be a lot of accidents on the west and east coats but not so much in the middle of the united states. \n",
    "#I wonder if this is due to less population in those areas or what\n",
    "#Additionally, I wonder if the dataset can be split into monthly data so that it can be more accurate to those areas\n",
    "#as it is very hard to tell.\n",
    "\n",
    "#Perhaps bokeh or plotly can allow more interactivitiy to zoom onto a more state by state or county by county region\n",
    "#Not sure if I want to do that now or not.\n",
    "\n",
    "#How to go depeer into the map visualization?\n",
    "#State by state map visualizations\n",
    "#Year by year map visualization\n",
    "#Wish this was interactive but not sure if I want to spend time committing to that? Maybe next time\n",
    "#Let's just try to see if we can go by yr by yr for now"
   ]
  },
  {
   "cell_type": "code",
   "execution_count": null,
   "metadata": {},
   "outputs": [],
   "source": [
    "fig = plt.figure(figsize = (15, 15))\n",
    "\n",
    "#Features of the US map\n",
    "ax = fig.add_subplot(1,1,1,projection = ccrs.PlateCarree())\n",
    "ax.add_feature(cfeat.LAND)\n",
    "ax.add_feature(cfeat.OCEAN)\n",
    "ax.add_feature(cfeat.COASTLINE)\n",
    "ax.add_feature(cfeat.BORDERS, linestyle = '-')\n",
    "ax.add_feature(cfeat.LAKES, alpha = 0.5)\n",
    "ax.add_feature(cfeat.RIVERS)\n",
    "\n",
    "ax.set_extent((-140, -60, 20, 50))\n",
    "\n",
    "state_borders = cfeat.NaturalEarthFeature(category = 'cultural', name = 'admin_1_states_provinces_lakes', \n",
    "                                          scale = '50m', facecolor = 'none')\n",
    "\n",
    "ax.add_feature(state_borders, linestyle = 'dotted', edgecolor = 'black')\n",
    "#End of featuresfrom datetime import datetime"
   ]
  },
  {
   "cell_type": "code",
   "execution_count": null,
   "metadata": {},
   "outputs": [],
   "source": [
    "#Solution 2\n",
    "a = pd.to_datetime(df['Start_Time'][1])\n",
    "df_lat_lng['Start_Time_Test'] = a\n"
   ]
  },
  {
   "cell_type": "raw",
   "metadata": {},
   "source": [
    "#applying solution 2 in a look\n",
    "df_lat_lng['Start_Time_Test_2'] = df_lat_lng.apply(lambda x:pd.to_datetime(df_lat_lng['Start_Time'][x]))\n"
   ]
  },
  {
   "cell_type": "code",
   "execution_count": null,
   "metadata": {},
   "outputs": [],
   "source": [
    "a = pd.to_datetime(df_lat_lng['Start_Time'])\n",
    "a"
   ]
  },
  {
   "cell_type": "code",
   "execution_count": null,
   "metadata": {
    "scrolled": true
   },
   "outputs": [],
   "source": [
    "df_lat_lng['Start_Time_2'] = a.values"
   ]
  },
  {
   "cell_type": "code",
   "execution_count": null,
   "metadata": {},
   "outputs": [],
   "source": [
    "from datetime import datetime\n",
    "datetime.weekday(df_lat_lng['Start_Time_2'][1])"
   ]
  },
  {
   "cell_type": "code",
   "execution_count": null,
   "metadata": {},
   "outputs": [],
   "source": [
    "#Visualization 1 Adjusted by adding per year:\n",
    "c = []\n",
    "#Get all the year values for each row\n",
    "for i in range(len(df_lat_lng['Start_Time'])):\n",
    "    c.append(df_lat_lng['Start_Time_2'][i].year)\n",
    "\n",
    "df_lat_lng['Year'] = c"
   ]
  },
  {
   "cell_type": "code",
   "execution_count": null,
   "metadata": {},
   "outputs": [],
   "source": [
    "plt.clf()"
   ]
  },
  {
   "cell_type": "code",
   "execution_count": null,
   "metadata": {},
   "outputs": [],
   "source": [
    "lng_2016 = df_lat_lng['Start_Lng'].loc[df_lat_lng['Year'] == 2016]\n",
    "lat_2016 = df_lat_lng['Start_Lat'].loc[df_lat_lng['Year'] == 2016]\n",
    "\n",
    "#Map of accidents in the US in 2016\n",
    "fig_2016 = plt.figure(figsize = (15, 15))\n",
    "\n",
    "#Features of the US map\n",
    "ax_2016 = fig_2016.add_subplot(1,1,1,projection = ccrs.PlateCarree())\n",
    "ax_2016.add_feature(cfeat.LAND)\n",
    "ax_2016.add_feature(cfeat.OCEAN)\n",
    "ax_2016.add_feature(cfeat.COASTLINE)\n",
    "ax_2016.add_feature(cfeat.BORDERS, linestyle = '-')\n",
    "ax_2016.add_feature(cfeat.LAKES, alpha = 0.5)\n",
    "ax_2016.add_feature(cfeat.RIVERS)\n",
    "\n",
    "ax_2016.set_extent((-140, -60, 20, 50))\n",
    "\n",
    "state_borders = cfeat.NaturalEarthFeature(category = 'cultural', name = 'admin_1_states_provinces_lakes', \n",
    "                                          scale = '50m', facecolor = 'none')\n",
    "\n",
    "ax_2016.add_feature(state_borders, linestyle = 'dotted', edgecolor = 'black')\n",
    "#End of features\n",
    "ax_2016.scatter(lng_2016, lat_2016, transform = ccrs.PlateCarree(), marker = '*', s = 1, c= 'r')"
   ]
  },
  {
   "cell_type": "code",
   "execution_count": null,
   "metadata": {},
   "outputs": [],
   "source": [
    "lng_2017 = df_lat_lng['Start_Lng'].loc[df_lat_lng['Year'] == 2017]\n",
    "lat_2017 = df_lat_lng['Start_Lat'].loc[df_lat_lng['Year'] == 2017]\n",
    "\n",
    "#Map of accidents in the US in 2017\n",
    "fig_2017 = plt.figure(figsize = (15, 15))\n",
    "\n",
    "#Features of the US map\n",
    "ax_2017 = fig_2017.add_subplot(1,1,1,projection = ccrs.PlateCarree())\n",
    "ax_2017.add_feature(cfeat.LAND)\n",
    "ax_2017.add_feature(cfeat.OCEAN)\n",
    "ax_2017.add_feature(cfeat.COASTLINE)\n",
    "ax_2017.add_feature(cfeat.BORDERS, linestyle = '-')\n",
    "ax_2017.add_feature(cfeat.LAKES, alpha = 0.5)\n",
    "ax_2017.add_feature(cfeat.RIVERS)\n",
    "\n",
    "ax_2017.set_extent((-140, -60, 20, 50))\n",
    "\n",
    "state_borders = cfeat.NaturalEarthFeature(category = 'cultural', name = 'admin_1_states_provinces_lakes', \n",
    "                                          scale = '50m', facecolor = 'none')\n",
    "\n",
    "ax_2017.add_feature(state_borders, linestyle = 'dotted', edgecolor = 'black')\n",
    "#End of features\n",
    "ax_2017.scatter(lng_2017, lat_2017, transform = ccrs.PlateCarree(), marker = '*', s = 1, c= 'r')"
   ]
  },
  {
   "cell_type": "code",
   "execution_count": null,
   "metadata": {},
   "outputs": [],
   "source": []
  },
  {
   "cell_type": "code",
   "execution_count": null,
   "metadata": {},
   "outputs": [],
   "source": [
    "\n",
    "lng_2018 = df_lat_lng['Start_Lng'].loc[df_lat_lng['Year'] == 2018]\n",
    "lat_2018 = df_lat_lng['Start_Lat'].loc[df_lat_lng['Year'] == 2018]\n",
    "\n",
    "#Map of accidents in the US in 2018\n",
    "fig_2018 = plt.figure(figsize = (15, 15))\n",
    "\n",
    "#Features of the US map\n",
    "ax_2018 = fig_2018.add_subplot(1,1,1,projection = ccrs.PlateCarree())\n",
    "ax_2018.add_feature(cfeat.LAND)\n",
    "ax_2018.add_feature(cfeat.OCEAN)\n",
    "ax_2018.add_feature(cfeat.COASTLINE)\n",
    "ax_2018.add_feature(cfeat.BORDERS, linestyle = '-')\n",
    "ax_2018.add_feature(cfeat.LAKES, alpha = 0.5)\n",
    "ax_2018.add_feature(cfeat.RIVERS)\n",
    "\n",
    "ax_2018.set_extent((-140, -60, 20, 50))\n",
    "\n",
    "state_borders = cfeat.NaturalEarthFeature(category = 'cultural', name = 'admin_1_states_provinces_lakes', \n",
    "                                          scale = '50m', facecolor = 'none')\n",
    "\n",
    "ax_2018.add_feature(state_borders, linestyle = 'dotted', edgecolor = 'black')\n",
    "#End of features\n",
    "ax_2018.scatter(lng_2018, lat_2018, transform = ccrs.PlateCarree(), marker = '*', s = 1, c= 'r')"
   ]
  },
  {
   "cell_type": "code",
   "execution_count": null,
   "metadata": {},
   "outputs": [],
   "source": [
    "\n",
    "lng_2019 = df_lat_lng['Start_Lng'].loc[df_lat_lng['Year'] == 2019]\n",
    "lat_2019 = df_lat_lng['Start_Lat'].loc[df_lat_lng['Year'] == 2019]\n",
    "\n",
    "#Map of accidents in the US in 2019\n",
    "fig_2019 = plt.figure(figsize = (15, 15))\n",
    "\n",
    "#Features of the US map\n",
    "ax_2019 = fig_2019.add_subplot(1,1,1,projection = ccrs.PlateCarree())\n",
    "ax_2019.add_feature(cfeat.LAND)\n",
    "ax_2019.add_feature(cfeat.OCEAN)\n",
    "ax_2019.add_feature(cfeat.COASTLINE)\n",
    "ax_2019.add_feature(cfeat.BORDERS, linestyle = '-')\n",
    "ax_2019.add_feature(cfeat.LAKES, alpha = 0.5)\n",
    "ax_2019.add_feature(cfeat.RIVERS)\n",
    "\n",
    "ax_2019.set_extent((-140, -60, 20, 50))\n",
    "\n",
    "state_borders = cfeat.NaturalEarthFeature(category = 'cultural', name = 'admin_1_states_provinces_lakes', \n",
    "                                          scale = '50m', facecolor = 'none')\n",
    "\n",
    "ax_2019.add_feature(state_borders, linestyle = 'dotted', edgecolor = 'black')\n",
    "#End of features\n",
    "ax_2019.scatter(lng_2019, lat_2019, transform = ccrs.PlateCarree(), marker = '*', s = 1, c= 'r')"
   ]
  },
  {
   "cell_type": "code",
   "execution_count": null,
   "metadata": {},
   "outputs": [],
   "source": [
    "\n",
    "lng_2020 = df_lat_lng['Start_Lng'].loc[df_lat_lng['Year'] == 2020]\n",
    "lat_2020 = df_lat_lng['Start_Lat'].loc[df_lat_lng['Year'] == 2020]\n",
    "\n",
    "#Map of accidents in the US in 202020\n",
    "fig_2020 = plt.figure(figsize = (15, 15))\n",
    "\n",
    "#Features of the US map\n",
    "ax_2020 = fig_2020.add_subplot(1,1,1,projection = ccrs.PlateCarree())\n",
    "ax_2020.add_feature(cfeat.LAND)\n",
    "ax_2020.add_feature(cfeat.OCEAN)\n",
    "ax_2020.add_feature(cfeat.COASTLINE)\n",
    "ax_2020.add_feature(cfeat.BORDERS, linestyle = '-')\n",
    "ax_2020.add_feature(cfeat.LAKES, alpha = 0.5)\n",
    "ax_2020.add_feature(cfeat.RIVERS)\n",
    "\n",
    "ax_2020.set_extent((-140, -60, 20, 50))\n",
    "\n",
    "state_borders = cfeat.NaturalEarthFeature(category = 'cultural', name = 'admin_1_states_provinces_lakes', \n",
    "                                          scale = '50m', facecolor = 'none')\n",
    "\n",
    "ax_2020.add_feature(state_borders, linestyle = 'dotted', edgecolor = 'black')\n",
    "#End of features\n",
    "ax_2020.scatter(lng_2020, lat_2020, transform = ccrs.PlateCarree(), marker = '*', s = 1, c= 'r')"
   ]
  },
  {
   "cell_type": "code",
   "execution_count": null,
   "metadata": {},
   "outputs": [],
   "source": []
  },
  {
   "cell_type": "code",
   "execution_count": null,
   "metadata": {
    "scrolled": true
   },
   "outputs": [],
   "source": [
    "#Double checking columns I have leftover\n",
    "df.columns"
   ]
  },
  {
   "cell_type": "code",
   "execution_count": null,
   "metadata": {},
   "outputs": [],
   "source": [
    "#Double checking info of data frame\n",
    "df.info()    "
   ]
  },
  {
   "cell_type": "code",
   "execution_count": null,
   "metadata": {
    "scrolled": true
   },
   "outputs": [],
   "source": []
  },
  {
   "cell_type": "code",
   "execution_count": null,
   "metadata": {},
   "outputs": [],
   "source": [
    "#Calcuating sum of each the quantitative varaibles\n",
    "a = np.zeros(13)\n",
    "a.shape\n",
    "\n",
    "for i in range(32,45):\n",
    "    b = i-32\n",
    "    column_sum = np.sum(df.iloc[:,i])\n",
    "    a[b] = column_sum"
   ]
  },
  {
   "cell_type": "code",
   "execution_count": null,
   "metadata": {},
   "outputs": [],
   "source": [
    "#Formatting to be 2 decimal points\n",
    "pd.options.display.float_format = '{:.2f}'.format"
   ]
  },
  {
   "cell_type": "code",
   "execution_count": null,
   "metadata": {},
   "outputs": [],
   "source": [
    "#Categorical columns to analyze\n",
    "list_columns = ['Amenity', 'Bump', 'Crossing', 'Give_Way', 'Junction', 'No_Exit', 'Railway', \n",
    "               'Roundabout', 'Station', 'Stop','Traffic_Calming', 'Traffic_Signal', 'Turning_Loop']"
   ]
  },
  {
   "cell_type": "code",
   "execution_count": null,
   "metadata": {},
   "outputs": [],
   "source": [
    "zipped = list(zip(list_columns,a))\n",
    "zipped"
   ]
  },
  {
   "cell_type": "code",
   "execution_count": null,
   "metadata": {},
   "outputs": [],
   "source": [
    "df_poi = pd.DataFrame(zipped, columns = ['POI', 'Count'])"
   ]
  },
  {
   "cell_type": "code",
   "execution_count": null,
   "metadata": {},
   "outputs": [],
   "source": []
  },
  {
   "cell_type": "code",
   "execution_count": null,
   "metadata": {},
   "outputs": [],
   "source": [
    "plt.bar(df_poi['POI'], df_poi['Count'], alpha = 0.5)\n",
    "plt.xticks(rotation = 45)\n",
    "plt.ylabel('Count')\n",
    "plt.title('Total amount of accidents for each POI')"
   ]
  },
  {
   "cell_type": "code",
   "execution_count": null,
   "metadata": {},
   "outputs": [],
   "source": [
    "\n",
    "from wordcloud import WordCloud, STOPWORDS"
   ]
  },
  {
   "cell_type": "code",
   "execution_count": null,
   "metadata": {},
   "outputs": [],
   "source": []
  },
  {
   "cell_type": "code",
   "execution_count": null,
   "metadata": {},
   "outputs": [],
   "source": [
    "#Implementing a word cloud\n",
    "a = str(df['Description'][0]).split()"
   ]
  },
  {
   "cell_type": "code",
   "execution_count": null,
   "metadata": {},
   "outputs": [],
   "source": [
    "a[5].lower()"
   ]
  },
  {
   "cell_type": "code",
   "execution_count": null,
   "metadata": {},
   "outputs": [],
   "source": [
    "stopwords = set(STOPWORDS)\n",
    "comment_words = ''\n",
    "df_str = str(df['Description'])\n",
    "\n",
    "for i in range(len(df_str)):\n",
    "    tokens = df_str.split()\n",
    "    for i in range(len(tokens)):\n",
    "        tokens[i] = tokens[i].lower()\n",
    "    \n",
    "    comment_words += \" \".join(tokens) + \" \"\n",
    "    "
   ]
  },
  {
   "cell_type": "code",
   "execution_count": null,
   "metadata": {},
   "outputs": [],
   "source": [
    "wordcloud = WordCloud(width = 800, height = 800, background_color = 'white', \n",
    "                     stopwords = stopwords, min_font_size = 10).generate(comment_words)\n",
    "\n",
    "plt.figure(figsize = (8,8), facecolor = None)\n",
    "plt.imshow(wordcloud)\n",
    "plt.axis(\"off\")\n",
    "plt.tight_layout(pad = 0)\n",
    "\n",
    "plt.show()"
   ]
  },
  {
   "cell_type": "code",
   "execution_count": 16,
   "metadata": {},
   "outputs": [
    {
     "data": {
      "text/plain": [
       "Index(['ID', 'Source', 'TMC', 'Severity', 'Start_Time', 'End_Time',\n",
       "       'Start_Lat', 'Start_Lng', 'End_Lat', 'End_Lng', 'Distance(mi)',\n",
       "       'Description', 'Number', 'Street', 'Side', 'City', 'County', 'State',\n",
       "       'Zipcode', 'Country', 'Timezone', 'Airport_Code', 'Weather_Timestamp',\n",
       "       'Temperature(F)', 'Wind_Chill(F)', 'Humidity(%)', 'Pressure(in)',\n",
       "       'Visibility(mi)', 'Wind_Direction', 'Wind_Speed(mph)',\n",
       "       'Precipitation(in)', 'Weather_Condition', 'Amenity', 'Bump', 'Crossing',\n",
       "       'Give_Way', 'Junction', 'No_Exit', 'Railway', 'Roundabout', 'Station',\n",
       "       'Stop', 'Traffic_Calming', 'Traffic_Signal', 'Turning_Loop',\n",
       "       'Sunrise_Sunset', 'Civil_Twilight', 'Nautical_Twilight',\n",
       "       'Astronomical_Twilight'],\n",
       "      dtype='object')"
      ]
     },
     "execution_count": 16,
     "metadata": {},
     "output_type": "execute_result"
    }
   ],
   "source": [
    "df.columns"
   ]
  },
  {
   "cell_type": "code",
   "execution_count": null,
   "metadata": {},
   "outputs": [],
   "source": [
    "#Implmenting Multiple linear regression from scratch\n",
    "import numpy as np\n",
    "import matplotlib.pyplot as plt\n",
    "from matplotlib import rcParams\n",
    "rcParams['figure.figsize'] = (14,7)\n",
    "rcParams['axes.spines.top'] = False\n",
    "rcParams['axes.spines.right'] = False"
   ]
  },
  {
   "cell_type": "code",
   "execution_count": null,
   "metadata": {},
   "outputs": [],
   "source": [
    "class LinearRegression:\n",
    "    '''\n",
    "    A class that implements multiple linear regression model with gradient descent\n",
    "    '''\n",
    "    \n",
    "    def __init__(self, learning_rate = 0.01, n_iterations = 10000):\n",
    "        self.learning_rate = learning_rate\n",
    "        self.n_iterations = n_iterations\n",
    "        self.weights, self.bias = None, None\n",
    "        self.loss = []\n",
    "        \n",
    "    @staticmethod\n",
    "    def _mean_squared_error(y, y_hat):\n",
    "        '''\n",
    "        Private method used to calculate loss at each iteration of gradient descent\n",
    "        :param y  - array, true values\n",
    "        :param y_hat - array, predicted values\n",
    "        :return: float\n",
    "        '''\n",
    "        \n",
    "        error = 0\n",
    "        for i in range(len(y)):\n",
    "            error += (y[i] - y_hat[i]) **2\n",
    "        return error/len(y)\n",
    "    \n",
    "    def fit(self, X,y):\n",
    "        '''\n",
    "        Used to calculate the coefficient of the linear regression model\n",
    "        \n",
    "        :param X: array, features\n",
    "        :param y: array, true values\n",
    "        :return None\n",
    "        \n",
    "        '''\n",
    "        \n",
    "        #Step 1 to fitting. Initialize the initial weights and biases to zeros\n",
    "        self.weights = np.zeros(X.shape[1]) #Array of zeros in the with the same length as X\n",
    "        \n",
    "        self.bias = 0 #Intercept weight (β0)\n",
    "        \n",
    "        #Step 2: Performing gradient descent\n",
    "        \n",
    "        for i in range(self.n_iterations):\n",
    "            #Line equaiton\n",
    "            y_hat = np.dot(X, self.weights) + self.bias #Calculate the linear regression line            \n",
    "            loss = self._mean_squared_error(y, y_hat)  #Calculate the error associated with that line\n",
    "            self.loss.append(loss)#Record the loss value\n",
    "            \n",
    "            #Calculate derivatives\n",
    "            partial_w = (1/ X.shape[0])*(2*np.dot(X.T, (y_hat - y))) #Partial derivate wrt w\n",
    "            partial_d = (1/X.shape[0])*(2*np.sum(y_hat-y)) #Partial derivate wrt d \n",
    "            \n",
    "            #Update the coefficients \n",
    "            self.weights = self.weights - (self.learning_rate*partial_w)\n",
    "            self.bias = self.weights - (self.learning_rate * partial_d)\n",
    "            \n",
    "            \n",
    "    \n",
    "    \n",
    "    def predict(self, X):\n",
    "        '''\n",
    "        Makes prediction using the line equation\n",
    "        \n",
    "        :param X: array, features\n",
    "        :return: array, predictions\n",
    "        '''\n",
    "        \n",
    "        return np.dot(X, self.weights)+self.bias            "
   ]
  },
  {
   "cell_type": "code",
   "execution_count": null,
   "metadata": {},
   "outputs": [],
   "source": [
    "from sklearn.model_selection import train_test_split\n",
    "\n",
    "X_train, X_test, y_train, y_test = trian_test_split(X,y, test_size = 0.2, random_state = 15 ) #Split data up into a training set and test set"
   ]
  },
  {
   "cell_type": "code",
   "execution_count": null,
   "metadata": {},
   "outputs": [],
   "source": []
  },
  {
   "cell_type": "code",
   "execution_count": null,
   "metadata": {},
   "outputs": [],
   "source": []
  },
  {
   "cell_type": "code",
   "execution_count": 18,
   "metadata": {},
   "outputs": [
    {
     "data": {
      "text/plain": [
       "<matplotlib.axes._subplots.AxesSubplot at 0x250e55eeb88>"
      ]
     },
     "execution_count": 18,
     "metadata": {},
     "output_type": "execute_result"
    },
    {
     "data": {
      "image/png": "[encoded data removed]",
      "text/plain": [
       "<Figure size 432x288 with 1 Axes>"
      ]
     },
     "metadata": {
      "needs_background": "light"
     },
     "output_type": "display_data"
    }
   ],
   "source": [
    "df['Severity'].hist()\n",
    "#unbalanced class"
   ]
  },
  {
   "cell_type": "code",
   "execution_count": 19,
   "metadata": {},
   "outputs": [
    {
     "data": {
      "text/plain": [
       "count    3.513740e+06\n",
       "mean     2.339935e+00\n",
       "std      5.522103e-01\n",
       "min      1.000000e+00\n",
       "25%      2.000000e+00\n",
       "50%      2.000000e+00\n",
       "75%      3.000000e+00\n",
       "max      4.000000e+00\n",
       "Name: Severity, dtype: float64"
      ]
     },
     "execution_count": 19,
     "metadata": {},
     "output_type": "execute_result"
    }
   ],
   "source": [
    "df['Severity'].describe()"
   ]
  },
  {
   "cell_type": "code",
   "execution_count": null,
   "metadata": {},
   "outputs": [],
   "source": []
  },
  {
   "cell_type": "code",
   "execution_count": null,
   "metadata": {},
   "outputs": [],
   "source": []
  },
  {
   "cell_type": "code",
   "execution_count": null,
   "metadata": {},
   "outputs": [],
   "source": []
  },
  {
   "cell_type": "code",
   "execution_count": null,
   "metadata": {},
   "outputs": [],
   "source": []
  },
  {
   "cell_type": "code",
   "execution_count": null,
   "metadata": {},
   "outputs": [],
   "source": []
  },
  {
   "cell_type": "code",
   "execution_count": null,
   "metadata": {},
   "outputs": [],
   "source": []
  },
  {
   "cell_type": "code",
   "execution_count": null,
   "metadata": {},
   "outputs": [],
   "source": []
  }
 ],
 "metadata": {
  "kernelspec": {
   "display_name": "Python 3",
   "language": "python",
   "name": "python3"
  },
  "language_info": {
   "codemirror_mode": {
    "name": "ipython",
    "version": 3
   },
   "file_extension": ".py",
   "mimetype": "text/x-python",
   "name": "python",
   "nbconvert_exporter": "python",
   "pygments_lexer": "ipython3",
   "version": "3.7.6"
  }
 },
 "nbformat": 4,
 "nbformat_minor": 4
}
